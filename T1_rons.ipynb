{
 "cells": [
  {
   "cell_type": "code",
   "execution_count": 1,
   "id": "9a623fbb-1d73-45c8-adb1-bed7952b9bf9",
   "metadata": {},
   "outputs": [],
   "source": [
    "#importing libraries\n",
    "import pandas as pd\n",
    "import requests"
   ]
  },
  {
   "cell_type": "code",
   "execution_count": 2,
   "id": "ca35b077-82fc-4191-b46d-3e6d60d6fb2b",
   "metadata": {},
   "outputs": [],
   "source": [
    "#saving API url as variable \n",
    "url = 'https://demodev2.kappazeta.ee/ard_api_demo/v1/rons/?properties=id%2Cname%2Ctrack_direction'"
   ]
  },
  {
   "cell_type": "code",
   "execution_count": 3,
   "id": "e3fa5a3e-30b4-48b5-a902-b14b2641d40c",
   "metadata": {},
   "outputs": [],
   "source": [
    "#requesting data to be fetched from url \n",
    "r = requests.get(url)"
   ]
  },
  {
   "cell_type": "code",
   "execution_count": 4,
   "id": "e974989f-d2e2-481b-bc51-b009ae24e81a",
   "metadata": {},
   "outputs": [
    {
     "name": "stdout",
     "output_type": "stream",
     "text": [
      "<Response [200]>\n"
     ]
    }
   ],
   "source": [
    "print(r)"
   ]
  },
  {
   "cell_type": "code",
   "execution_count": 5,
   "id": "23d5b1ac-a34b-4974-afb7-f4e7a3cdea33",
   "metadata": {},
   "outputs": [],
   "source": [
    "#reading data from json handler\n",
    "json = r.json()"
   ]
  },
  {
   "cell_type": "code",
   "execution_count": 6,
   "id": "f56fdcf9-b4fa-4f0d-b525-8adf03271fca",
   "metadata": {},
   "outputs": [
    {
     "data": {
      "text/plain": [
       "dict_keys(['status', 'message', 'parcel_foreign_id', 'page', 'length', 'rons'])"
      ]
     },
     "execution_count": 6,
     "metadata": {},
     "output_type": "execute_result"
    }
   ],
   "source": [
    "#checking dictornary keys in which data is stored\n",
    "json.keys()"
   ]
  },
  {
   "cell_type": "code",
   "execution_count": 7,
   "id": "3f4b8fe7-3e1b-4c9f-9477-43e0bd3a54c0",
   "metadata": {},
   "outputs": [
    {
     "data": {
      "text/plain": [
       "[{'id': '146', 'name': 'R146A', 'track_direction': 'ascending'},\n",
       " {'id': '168', 'name': 'R168D', 'track_direction': 'descending'},\n",
       " {'id': '44', 'name': 'R44A', 'track_direction': 'ascending'},\n",
       " {'id': '66', 'name': 'R66D', 'track_direction': 'descending'}]"
      ]
     },
     "execution_count": 7,
     "metadata": {},
     "output_type": "execute_result"
    }
   ],
   "source": [
    "json['rons']"
   ]
  },
  {
   "cell_type": "code",
   "execution_count": 8,
   "id": "b2f8e659-10c3-478a-b995-fc1faade2d92",
   "metadata": {},
   "outputs": [],
   "source": [
    "#converting data from json to dataframe so it can be understood easily\n",
    "df = pd.DataFrame(json['rons'])"
   ]
  },
  {
   "cell_type": "code",
   "execution_count": 9,
   "id": "5d69144b-9da9-47c4-8c37-018dc08f7aed",
   "metadata": {},
   "outputs": [
    {
     "data": {
      "text/html": [
       "<div>\n",
       "<style scoped>\n",
       "    .dataframe tbody tr th:only-of-type {\n",
       "        vertical-align: middle;\n",
       "    }\n",
       "\n",
       "    .dataframe tbody tr th {\n",
       "        vertical-align: top;\n",
       "    }\n",
       "\n",
       "    .dataframe thead th {\n",
       "        text-align: right;\n",
       "    }\n",
       "</style>\n",
       "<table border=\"1\" class=\"dataframe\">\n",
       "  <thead>\n",
       "    <tr style=\"text-align: right;\">\n",
       "      <th></th>\n",
       "      <th>id</th>\n",
       "      <th>name</th>\n",
       "      <th>track_direction</th>\n",
       "    </tr>\n",
       "  </thead>\n",
       "  <tbody>\n",
       "    <tr>\n",
       "      <th>0</th>\n",
       "      <td>146</td>\n",
       "      <td>R146A</td>\n",
       "      <td>ascending</td>\n",
       "    </tr>\n",
       "    <tr>\n",
       "      <th>1</th>\n",
       "      <td>168</td>\n",
       "      <td>R168D</td>\n",
       "      <td>descending</td>\n",
       "    </tr>\n",
       "    <tr>\n",
       "      <th>2</th>\n",
       "      <td>44</td>\n",
       "      <td>R44A</td>\n",
       "      <td>ascending</td>\n",
       "    </tr>\n",
       "    <tr>\n",
       "      <th>3</th>\n",
       "      <td>66</td>\n",
       "      <td>R66D</td>\n",
       "      <td>descending</td>\n",
       "    </tr>\n",
       "  </tbody>\n",
       "</table>\n",
       "</div>"
      ],
      "text/plain": [
       "    id   name track_direction\n",
       "0  146  R146A       ascending\n",
       "1  168  R168D      descending\n",
       "2   44   R44A       ascending\n",
       "3   66   R66D      descending"
      ]
     },
     "execution_count": 9,
     "metadata": {},
     "output_type": "execute_result"
    }
   ],
   "source": [
    "df"
   ]
  }
 ],
 "metadata": {
  "kernelspec": {
   "display_name": "geopy2021",
   "language": "python",
   "name": "geopy2021"
  },
  "language_info": {
   "codemirror_mode": {
    "name": "ipython",
    "version": 3
   },
   "file_extension": ".py",
   "mimetype": "text/x-python",
   "name": "python",
   "nbconvert_exporter": "python",
   "pygments_lexer": "ipython3",
   "version": "3.8.13"
  }
 },
 "nbformat": 4,
 "nbformat_minor": 5
}

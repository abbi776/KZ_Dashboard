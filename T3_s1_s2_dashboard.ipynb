{
 "cells": [
  {
   "cell_type": "code",
   "execution_count": 1,
   "id": "430b9ef1-f4ec-45d0-8b37-eca60ee15719",
   "metadata": {},
   "outputs": [],
   "source": [
    "#importing libraries\n",
    "import dash\n",
    "from dash import dcc\n",
    "from dash import html\n",
    "import pandas as pd\n",
    "import geopandas as gpd\n",
    "import requests\n",
    "import numpy as np\n",
    "import plotly.graph_objs as go\n",
    "from dash import Dash, dcc, html, Input, Output\n",
    "import plotly.express as px"
   ]
  },
  {
   "cell_type": "code",
   "execution_count": 2,
   "id": "11e6d4d8-2b76-42fa-8348-deb532df82ee",
   "metadata": {},
   "outputs": [],
   "source": [
    "app = dash.Dash()"
   ]
  },
  {
   "cell_type": "code",
   "execution_count": null,
   "id": "f9b962d2-fa2e-45f2-9629-cdc40ff317c6",
   "metadata": {},
   "outputs": [
    {
     "name": "stdout",
     "output_type": "stream",
     "text": [
      "Dash is running on http://127.0.0.1:4050/\n",
      "\n",
      " * Serving Flask app '__main__' (lazy loading)\n",
      " * Environment: production\n",
      "\u001b[31m   WARNING: This is a development server. Do not use it in a production deployment.\u001b[0m\n",
      "\u001b[2m   Use a production WSGI server instead.\u001b[0m\n",
      " * Debug mode: off\n"
     ]
    },
    {
     "name": "stderr",
     "output_type": "stream",
     "text": [
      " * Running on http://127.0.0.1:4050 (Press CTRL+C to quit)\n",
      "127.0.0.1 - - [26/May/2022 16:14:38] \"GET / HTTP/1.1\" 200 -\n",
      "127.0.0.1 - - [26/May/2022 16:14:38] \"GET /_dash-dependencies HTTP/1.1\" 200 -\n",
      "127.0.0.1 - - [26/May/2022 16:14:38] \"GET /_dash-layout HTTP/1.1\" 200 -\n",
      "127.0.0.1 - - [26/May/2022 16:14:38] \"GET /_dash-component-suites/dash/dcc/async-graph.js HTTP/1.1\" 304 -\n",
      "127.0.0.1 - - [26/May/2022 16:14:38] \"GET /_dash-component-suites/dash/dcc/async-plotlyjs.js HTTP/1.1\" 304 -\n"
     ]
    }
   ],
   "source": [
    "#data cleaning\n",
    "s1_time_series_url = 'https://demodev2.kappazeta.ee/ard_api_demo/v1/time_series/s1?limit_to_rasters=true&parcel_foreign_id=0&properties=parcel_id%2Cparcel_foreign_id%2Cs1product_end_time%2Cs1product_ron%2Ccohvh_avg%2Ccohvv_avg%2Cvhvv_avg%2Cs0vh_avg%2Cs0vv_avg%20'\n",
    "r_s1_time_series = requests.get(s1_time_series_url)\n",
    "json_s1_time_series = r_s1_time_series.json()\n",
    "df_s1_time_series = pd.DataFrame(json_s1_time_series['s1_time_series'])\n",
    "s2_time_series_url = 'https://demodev2.kappazeta.ee/ard_api_demo/v1/time_series/s2?limit_to_rasters=true&parcel_foreign_id=0&properties=parcel_id%2Cparcel_foreign_id%2Cs2product_start_time%2Cs2product_ron%2Cndvi_avg'\n",
    "r_s2_time_series = requests.get(s2_time_series_url)\n",
    "json_s2_time_series = r_s2_time_series.json()\n",
    "df_s2_time_series = pd.DataFrame(json_s2_time_series['s2_time_series'])\n",
    "df_s2_time_series.s2product_start_time=df_s2_time_series.s2product_start_time.str[0:11]\n",
    "df_s1_time_series.s1product_end_time=df_s1_time_series.s1product_end_time.str[0:11]\n",
    "dfinal = df_s1_time_series.merge(df_s2_time_series, how='inner', left_on='s1product_end_time', right_on='s2product_start_time')\n",
    "cols = ['parcel_foreign_id_x', 's1product_ron','parcel_foreign_id_y','s2product_ron']\n",
    "dfinal[cols] = dfinal[cols].apply(pd.to_numeric, errors='coerce', axis=1)\n",
    "\n",
    "\n",
    "\n",
    "#data visualization\n",
    "app.layout = html.Div([\n",
    "    dcc.Graph(\n",
    "        id='scatter_chart',\n",
    "        figure=px.line(dfinal,x=\"s1product_end_time\", y=[\"ndvi_avg\", \"s0vv_avg\", \"s0vh_avg\",\"vhvv_avg\",\"cohvv_avg\",\"cohvh_avg\"],markers=True, title=\"Sentinel 1&2 parameters of parcel # 1\",width=1200,height=600,\n",
    "                      labels={\"s1product_end_time\": \"Date\"})\n",
    "        \n",
    "        \n",
    "        )    \n",
    "    \n",
    "    ])\n",
    "\n",
    "if __name__ == '__main__':\n",
    "    app.run_server(port=4050)"
   ]
  },
  {
   "cell_type": "code",
   "execution_count": null,
   "id": "2748751f-fede-4a52-8530-3605dfec6c5b",
   "metadata": {},
   "outputs": [],
   "source": []
  },
  {
   "cell_type": "code",
   "execution_count": null,
   "id": "ed22c262-1095-4ee6-80a5-d264ff289435",
   "metadata": {},
   "outputs": [],
   "source": []
  },
  {
   "cell_type": "code",
   "execution_count": null,
   "id": "6d1afae9-f6f9-413d-a57c-c27911e81f46",
   "metadata": {},
   "outputs": [],
   "source": []
  },
  {
   "cell_type": "code",
   "execution_count": null,
   "id": "512e2c38-e4cb-404d-a9c0-afeb38027794",
   "metadata": {},
   "outputs": [],
   "source": []
  }
 ],
 "metadata": {
  "kernelspec": {
   "display_name": "geopy2021",
   "language": "python",
   "name": "geopy2021"
  },
  "language_info": {
   "codemirror_mode": {
    "name": "ipython",
    "version": 3
   },
   "file_extension": ".py",
   "mimetype": "text/x-python",
   "name": "python",
   "nbconvert_exporter": "python",
   "pygments_lexer": "ipython3",
   "version": "3.8.13"
  }
 },
 "nbformat": 4,
 "nbformat_minor": 5
}

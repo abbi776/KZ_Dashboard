{
 "cells": [
  {
   "cell_type": "code",
   "execution_count": 1,
   "metadata": {},
   "outputs": [
    {
     "data": {
      "application/vnd.plotly.v1+json": {
       "config": {
        "plotlyServerURL": "https://plot.ly"
       },
       "data": [
        {
         "colorscale": [
          [
           0,
           "#636efa"
          ],
          [
           1,
           "#636efa"
          ]
         ],
         "featureidkey": "id",
         "geojson": {
          "crs": {
           "properties": {
            "name": "urn:ogc:def:crs:OGC:1.3:CRS84"
           },
           "type": "name"
          },
          "features": [
           {
            "geometry": {
             "coordinates": [
              [
               [
                [
                 2.96132467659262,
                 47.42966080712924
                ],
                [
                 2.96132467659262,
                 47.43564352155255
                ],
                [
                 2.97108136427822,
                 47.43564352155255
                ],
                [
                 2.97108136427822,
                 47.42966080712924
                ],
                [
                 2.96132467659262,
                 47.42966080712924
                ]
               ]
              ]
             ],
             "type": "MultiPolygon"
            },
            "id": 1,
            "properties": {
             "area": 63.929261463571656,
             "client_for": null,
             "crop_forei": null,
             "landuse_fo": null,
             "parcel_for": "0",
             "parcel_id": 1
            },
            "type": "Feature"
           },
           {
            "geometry": {
             "coordinates": [
              [
               [
                [
                 2.926178089353717,
                 47.4305985179514
                ],
                [
                 2.926178089353717,
                 47.43521260658577
                ],
                [
                 2.932456815824807,
                 47.43521260658577
                ],
                [
                 2.932456815824807,
                 47.4305985179514
                ],
                [
                 2.926178089353717,
                 47.4305985179514
                ]
               ]
              ]
             ],
             "type": "MultiPolygon"
            },
            "id": 2,
            "properties": {
             "area": 35.75059130209388,
             "client_for": null,
             "crop_forei": null,
             "landuse_fo": null,
             "parcel_for": "1",
             "parcel_id": 2
            },
            "type": "Feature"
           },
           {
            "geometry": {
             "coordinates": [
              [
               [
                [
                 2.930904138950665,
                 47.45553499835408
                ],
                [
                 2.930904138950665,
                 47.456341244478516
                ],
                [
                 2.932792069801753,
                 47.456341244478516
                ],
                [
                 2.932792069801753,
                 47.45553499835408
                ],
                [
                 2.930904138950665,
                 47.45553499835408
                ]
               ]
              ]
             ],
             "type": "MultiPolygon"
            },
            "id": 11,
            "properties": {
             "area": 2.361716699200775,
             "client_for": null,
             "crop_forei": null,
             "landuse_fo": null,
             "parcel_for": "10",
             "parcel_id": 11
            },
            "type": "Feature"
           },
           {
            "geometry": {
             "coordinates": [
              [
               [
                [
                 2.748520463286523,
                 47.225097566878304
                ],
                [
                 2.748520463286523,
                 47.22764210666405
                ],
                [
                 2.750634273624076,
                 47.22764210666405
                ],
                [
                 2.750634273624076,
                 47.225097566878304
                ],
                [
                 2.748520463286523,
                 47.225097566878304
                ]
               ]
              ]
             ],
             "type": "MultiPolygon"
            },
            "id": 152,
            "properties": {
             "area": 5.973361394081088,
             "client_for": null,
             "crop_forei": null,
             "landuse_fo": null,
             "parcel_for": "151",
             "parcel_id": 152
            },
            "type": "Feature"
           },
           {
            "geometry": {
             "coordinates": [
              [
               [
                [
                 2.956195930414179,
                 47.43886123482151
                ],
                [
                 2.956195930414179,
                 47.44219208290961
                ],
                [
                 2.966711710630627,
                 47.44219208290961
                ],
                [
                 2.966711710630627,
                 47.43886123482151
                ],
                [
                 2.956195930414179,
                 47.43886123482151
                ]
               ]
              ]
             ],
             "type": "MultiPolygon"
            },
            "id": 3,
            "properties": {
             "area": 36.95091979223167,
             "client_for": null,
             "crop_forei": null,
             "landuse_fo": null,
             "parcel_for": "2",
             "parcel_id": 3
            },
            "type": "Feature"
           },
           {
            "geometry": {
             "coordinates": [
              [
               [
                [
                 2.972627015859734,
                 47.418607702877146
                ],
                [
                 2.972627015859734,
                 47.423876911638004
                ],
                [
                 2.982562626498135,
                 47.423876911638004
                ],
                [
                 2.982562626498135,
                 47.418607702877146
                ],
                [
                 2.972627015859734,
                 47.418607702877146
                ]
               ]
              ]
             ],
             "type": "MultiPolygon"
            },
            "id": 4,
            "properties": {
             "area": 50.600449141434645,
             "client_for": null,
             "crop_forei": null,
             "landuse_fo": null,
             "parcel_for": "3",
             "parcel_id": 4
            },
            "type": "Feature"
           },
           {
            "geometry": {
             "coordinates": [
              [
               [
                [
                 2.938557963657555,
                 47.47490691096824
                ],
                [
                 2.938557963657555,
                 47.476583606064764
                ],
                [
                 2.941582003532299,
                 47.476583606064764
                ],
                [
                 2.941582003532299,
                 47.47490691096824
                ],
                [
                 2.938557963657555,
                 47.47490691096824
                ]
               ]
              ]
             ],
             "type": "MultiPolygon"
            },
            "id": 5,
            "properties": {
             "area": 5.23084332062725,
             "client_for": null,
             "crop_forei": null,
             "landuse_fo": null,
             "parcel_for": "4",
             "parcel_id": 5
            },
            "type": "Feature"
           },
           {
            "geometry": {
             "coordinates": [
              [
               [
                [
                 2.742155984497603,
                 47.23035197429678
                ],
                [
                 2.742155984497603,
                 47.23174039239842
                ],
                [
                 2.743759451217834,
                 47.23174039239842
                ],
                [
                 2.743759451217834,
                 47.23035197429678
                ],
                [
                 2.742155984497603,
                 47.23035197429678
                ]
               ]
              ]
             ],
             "type": "MultiPolygon"
            },
            "id": 153,
            "properties": {
             "area": 1.982524962352955,
             "client_for": null,
             "crop_forei": null,
             "landuse_fo": null,
             "parcel_for": "152",
             "parcel_id": 153
            },
            "type": "Feature"
           },
           {
            "geometry": {
             "coordinates": [
              [
               [
                [
                 2.955951410083138,
                 47.48887853115351
                ],
                [
                 2.955951410083138,
                 47.49751065088783
                ],
                [
                 2.970081723503698,
                 47.49751065088783
                ],
                [
                 2.970081723503698,
                 47.48887853115351
                ],
                [
                 2.955951410083138,
                 47.48887853115351
                ]
               ]
              ]
             ],
             "type": "MultiPolygon"
            },
            "id": 6,
            "properties": {
             "area": 125.57912658992572,
             "client_for": null,
             "crop_forei": null,
             "landuse_fo": null,
             "parcel_for": "5",
             "parcel_id": 6
            },
            "type": "Feature"
           },
           {
            "geometry": {
             "coordinates": [
              [
               [
                [
                 2.921826827162854,
                 47.458605059642196
                ],
                [
                 2.921826827162854,
                 47.46211198315296
                ],
                [
                 2.924341935882834,
                 47.46211198315296
                ],
                [
                 2.924341935882834,
                 47.458605059642196
                ],
                [
                 2.921826827162854,
                 47.458605059642196
                ]
               ]
              ]
             ],
             "type": "MultiPolygon"
            },
            "id": 7,
            "properties": {
             "area": 8.24833055998767,
             "client_for": null,
             "crop_forei": null,
             "landuse_fo": null,
             "parcel_for": "6",
             "parcel_id": 7
            },
            "type": "Feature"
           },
           {
            "geometry": {
             "coordinates": [
              [
               [
                [
                 2.953972935543896,
                 47.45847878989537
                ],
                [
                 2.953972935543896,
                 47.461252885882175
                ],
                [
                 2.957462243581733,
                 47.461252885882175
                ],
                [
                 2.957462243581733,
                 47.45847878989537
                ],
                [
                 2.953972935543896,
                 47.45847878989537
                ]
               ]
              ]
             ],
             "type": "MultiPolygon"
            },
            "id": 8,
            "properties": {
             "area": 8.92478480381646,
             "client_for": null,
             "crop_forei": null,
             "landuse_fo": null,
             "parcel_for": "7",
             "parcel_id": 8
            },
            "type": "Feature"
           },
           {
            "geometry": {
             "coordinates": [
              [
               [
                [
                 2.942478291767935,
                 47.42936505668296
                ],
                [
                 2.942478291767935,
                 47.43494732001126
                ],
                [
                 2.948180203440992,
                 47.43494732001126
                ],
                [
                 2.948180203440992,
                 47.42936505668296
                ],
                [
                 2.942478291767935,
                 47.42936505668296
                ]
               ]
              ]
             ],
             "type": "MultiPolygon"
            },
            "id": 9,
            "properties": {
             "area": 43.45943931666038,
             "client_for": null,
             "crop_forei": null,
             "landuse_fo": null,
             "parcel_for": "8",
             "parcel_id": 9
            },
            "type": "Feature"
           },
           {
            "geometry": {
             "coordinates": [
              [
               [
                [
                 2.917981590322955,
                 47.44049565125787
                ],
                [
                 2.917981590322955,
                 47.44264515654303
                ],
                [
                 2.919523074197676,
                 47.44264515654303
                ],
                [
                 2.919523074197676,
                 47.44049565125787
                ],
                [
                 2.917981590322955,
                 47.44049565125787
                ]
               ]
              ]
             ],
             "type": "MultiPolygon"
            },
            "id": 10,
            "properties": {
             "area": 2.843274878175427,
             "client_for": null,
             "crop_forei": null,
             "landuse_fo": null,
             "parcel_for": "9",
             "parcel_id": 10
            },
            "type": "Feature"
           },
           {
            "geometry": {
             "coordinates": [
              [
               [
                [
                 3.109820242686917,
                 47.490219986051585
                ],
                [
                 3.109820242686917,
                 47.493898445981046
                ],
                [
                 3.116776760067158,
                 47.493898445981046
                ],
                [
                 3.116776760067158,
                 47.490219986051585
                ],
                [
                 3.109820242686917,
                 47.490219986051585
                ]
               ]
              ]
             ],
             "type": "MultiPolygon"
            },
            "id": 12,
            "properties": {
             "area": 25.590072737616733,
             "client_for": null,
             "crop_forei": null,
             "landuse_fo": null,
             "parcel_for": "11",
             "parcel_id": 12
            },
            "type": "Feature"
           },
           {
            "geometry": {
             "coordinates": [
              [
               [
                [
                 2.991263544765797,
                 47.44974766152868
                ],
                [
                 2.991263544765797,
                 47.45234927246008
                ],
                [
                 2.999537017555035,
                 47.45234927246008
                ],
                [
                 2.999537017555035,
                 47.44974766152868
                ],
                [
                 2.991263544765797,
                 47.44974766152868
                ]
               ]
              ]
             ],
             "type": "MultiPolygon"
            },
            "id": 13,
            "properties": {
             "area": 17.470952502346346,
             "client_for": null,
             "crop_forei": null,
             "landuse_fo": null,
             "parcel_for": "12",
             "parcel_id": 13
            },
            "type": "Feature"
           },
           {
            "geometry": {
             "coordinates": [
              [
               [
                [
                 3.138749619502747,
                 47.32841934635833
                ],
                [
                 3.138749619502747,
                 47.33285478795409
                ],
                [
                 3.145230560314206,
                 47.33285478795409
                ],
                [
                 3.145230560314206,
                 47.32841934635833
                ],
                [
                 3.138749619502747,
                 47.32841934635833
                ]
               ]
              ]
             ],
             "type": "MultiPolygon"
            },
            "id": 40,
            "properties": {
             "area": 20.426138825144097,
             "client_for": null,
             "crop_forei": null,
             "landuse_fo": null,
             "parcel_for": "39",
             "parcel_id": 40
            },
            "type": "Feature"
           },
           {
            "geometry": {
             "coordinates": [
              [
               [
                [
                 3.058140183269912,
                 47.32443989585893
                ],
                [
                 3.058140183269912,
                 47.335535633087765
                ],
                [
                 3.070810445680457,
                 47.335535633087765
                ],
                [
                 3.070810445680457,
                 47.32443989585893
                ],
                [
                 3.058140183269912,
                 47.32443989585893
                ]
               ]
              ]
             ],
             "type": "MultiPolygon"
            },
            "id": 41,
            "properties": {
             "area": 148.31859467834363,
             "client_for": null,
             "crop_forei": null,
             "landuse_fo": null,
             "parcel_for": "40",
             "parcel_id": 41
            },
            "type": "Feature"
           },
           {
            "geometry": {
             "coordinates": [
              [
               [
                [
                 3.102839024309838,
                 47.309233412256525
                ],
                [
                 3.102839024309838,
                 47.31678579462859
                ],
                [
                 3.115060535029039,
                 47.31678579462859
                ],
                [
                 3.115060535029039,
                 47.309233412256525
                ],
                [
                 3.102839024309838,
                 47.309233412256525
                ]
               ]
              ]
             ],
             "type": "MultiPolygon"
            },
            "id": 42,
            "properties": {
             "area": 73.408677274412,
             "client_for": null,
             "crop_forei": null,
             "landuse_fo": null,
             "parcel_for": "41",
             "parcel_id": 42
            },
            "type": "Feature"
           },
           {
            "geometry": {
             "coordinates": [
              [
               [
                [
                 3.067067376689307,
                 47.34195888245042
                ],
                [
                 3.067067376689307,
                 47.346391136773164
                ],
                [
                 3.074497634248821,
                 47.346391136773164
                ],
                [
                 3.074497634248821,
                 47.34195888245042
                ],
                [
                 3.067067376689307,
                 47.34195888245042
                ]
               ]
              ]
             ],
             "type": "MultiPolygon"
            },
            "id": 43,
            "properties": {
             "area": 43.02963587544188,
             "client_for": null,
             "crop_forei": null,
             "landuse_fo": null,
             "parcel_for": "42",
             "parcel_id": 43
            },
            "type": "Feature"
           },
           {
            "geometry": {
             "coordinates": [
              [
               [
                [
                 2.992891122755077,
                 47.380165363179124
                ],
                [
                 2.992891122755077,
                 47.39005175445727
                ],
                [
                 3.005837646761932,
                 47.39005175445727
                ],
                [
                 3.005837646761932,
                 47.380165363179124
                ],
                [
                 2.992891122755077,
                 47.380165363179124
                ]
               ]
              ]
             ],
             "type": "MultiPolygon"
            },
            "id": 44,
            "properties": {
             "area": 116.08782464895826,
             "client_for": null,
             "crop_forei": null,
             "landuse_fo": null,
             "parcel_for": "43",
             "parcel_id": 44
            },
            "type": "Feature"
           },
           {
            "geometry": {
             "coordinates": [
              [
               [
                [
                 3.022072896433665,
                 47.44711917664829
                ],
                [
                 3.022072896433665,
                 47.45156763219257
                ],
                [
                 3.031353962885107,
                 47.45156763219257
                ],
                [
                 3.031353962885107,
                 47.44711917664829
                ],
                [
                 3.022072896433665,
                 47.44711917664829
                ]
               ]
              ]
             ],
             "type": "MultiPolygon"
            },
            "id": 14,
            "properties": {
             "area": 41.41532913604692,
             "client_for": null,
             "crop_forei": null,
             "landuse_fo": null,
             "parcel_for": "13",
             "parcel_id": 14
            },
            "type": "Feature"
           },
           {
            "geometry": {
             "coordinates": [
              [
               [
                [
                 3.079332279700851,
                 47.46502337339874
                ],
                [
                 3.079332279700851,
                 47.47085265969553
                ],
                [
                 3.085724629127057,
                 47.47085265969553
                ],
                [
                 3.085724629127057,
                 47.46502337339874
                ],
                [
                 3.079332279700851,
                 47.46502337339874
                ]
               ]
              ]
             ],
             "type": "MultiPolygon"
            },
            "id": 15,
            "properties": {
             "area": 37.84122030212425,
             "client_for": null,
             "crop_forei": null,
             "landuse_fo": null,
             "parcel_for": "14",
             "parcel_id": 15
            },
            "type": "Feature"
           },
           {
            "geometry": {
             "coordinates": [
              [
               [
                [
                 3.074601339960433,
                 47.43960712618187
                ],
                [
                 3.074601339960433,
                 47.446365628883015
                ],
                [
                 3.089265619938272,
                 47.446365628883015
                ],
                [
                 3.089265619938272,
                 47.43960712618187
                ],
                [
                 3.074601339960433,
                 47.43960712618187
                ]
               ]
              ]
             ],
             "type": "MultiPolygon"
            },
            "id": 19,
            "properties": {
             "area": 96.19543438644716,
             "client_for": null,
             "crop_forei": null,
             "landuse_fo": null,
             "parcel_for": "18",
             "parcel_id": 19
            },
            "type": "Feature"
           },
           {
            "geometry": {
             "coordinates": [
              [
               [
                [
                 3.145089657513806,
                 47.48749902810383
                ],
                [
                 3.145089657513806,
                 47.495058527200136
                ],
                [
                 3.162299941843401,
                 47.495058527200136
                ],
                [
                 3.162299941843401,
                 47.48749902810383
                ],
                [
                 3.145089657513806,
                 47.48749902810383
                ]
               ]
              ]
             ],
             "type": "MultiPolygon"
            },
            "id": 20,
            "properties": {
             "area": 170.87783131178745,
             "client_for": null,
             "crop_forei": null,
             "landuse_fo": null,
             "parcel_for": "19",
             "parcel_id": 20
            },
            "type": "Feature"
           },
           {
            "geometry": {
             "coordinates": [
              [
               [
                [
                 2.738721865833956,
                 47.22637432398975
                ],
                [
                 2.738721865833956,
                 47.22857894951009
                ],
                [
                 2.741834961899617,
                 47.22857894951009
                ],
                [
                 2.741834961899617,
                 47.22637432398975
                ],
                [
                 2.738721865833956,
                 47.22637432398975
                ]
               ]
              ]
             ],
             "type": "MultiPolygon"
            },
            "id": 154,
            "properties": {
             "area": 5.338398045773022,
             "client_for": null,
             "crop_forei": null,
             "landuse_fo": null,
             "parcel_for": "153",
             "parcel_id": 154
            },
            "type": "Feature"
           },
           {
            "geometry": {
             "coordinates": [
              [
               [
                [
                 3.025470133206184,
                 47.46822363864958
                ],
                [
                 3.025470133206184,
                 47.47412418373126
                ],
                [
                 3.034562673064021,
                 47.47412418373126
                ],
                [
                 3.034562673064021,
                 47.46822363864958
                ],
                [
                 3.025470133206184,
                 47.46822363864958
                ]
               ]
              ]
             ],
             "type": "MultiPolygon"
            },
            "id": 16,
            "properties": {
             "area": 50.5190926610758,
             "client_for": null,
             "crop_forei": null,
             "landuse_fo": null,
             "parcel_for": "15",
             "parcel_id": 16
            },
            "type": "Feature"
           },
           {
            "geometry": {
             "coordinates": [
              [
               [
                [
                 3.072982063053734,
                 47.37290619331612
                ],
                [
                 3.072982063053734,
                 47.3758518269061
                ],
                [
                 3.077236929391773,
                 47.3758518269061
                ],
                [
                 3.077236929391773,
                 47.37290619331612
                ],
                [
                 3.072982063053734,
                 47.37290619331612
                ]
               ]
              ]
             ],
             "type": "MultiPolygon"
            },
            "id": 26,
            "properties": {
             "area": 12.503730948819001,
             "client_for": null,
             "crop_forei": null,
             "landuse_fo": null,
             "parcel_for": "25",
             "parcel_id": 26
            },
            "type": "Feature"
           },
           {
            "geometry": {
             "coordinates": [
              [
               [
                [
                 3.060441929292384,
                 47.394523943972025
                ],
                [
                 3.060441929292384,
                 47.39636886150035
                ],
                [
                 3.064428083089926,
                 47.39636886150035
                ],
                [
                 3.064428083089926,
                 47.394523943972025
                ],
                [
                 3.060441929292384,
                 47.394523943972025
                ]
               ]
              ]
             ],
             "type": "MultiPolygon"
            },
            "id": 27,
            "properties": {
             "area": 10.477542237381824,
             "client_for": null,
             "crop_forei": null,
             "landuse_fo": null,
             "parcel_for": "26",
             "parcel_id": 27
            },
            "type": "Feature"
           },
           {
            "geometry": {
             "coordinates": [
              [
               [
                [
                 3.060211246378736,
                 47.4882591396841
                ],
                [
                 3.060211246378736,
                 47.49109910540478
                ],
                [
                 3.066155716823942,
                 47.49109910540478
                ],
                [
                 3.066155716823942,
                 47.4882591396841
                ],
                [
                 3.060211246378736,
                 47.4882591396841
                ]
               ]
              ]
             ],
             "type": "MultiPolygon"
            },
            "id": 17,
            "properties": {
             "area": 21.632388094430095,
             "client_for": null,
             "crop_forei": null,
             "landuse_fo": null,
             "parcel_for": "16",
             "parcel_id": 17
            },
            "type": "Feature"
           },
           {
            "geometry": {
             "coordinates": [
              [
               [
                [
                 3.018576683455124,
                 47.47560374917612
                ],
                [
                 3.018576683455124,
                 47.48118604446694
                ],
                [
                 3.021794337820506,
                 47.48118604446694
                ],
                [
                 3.021794337820506,
                 47.47560374917612
                ],
                [
                 3.018576683455124,
                 47.47560374917612
                ]
               ]
              ]
             ],
             "type": "MultiPolygon"
            },
            "id": 18,
            "properties": {
             "area": 17.984603949120633,
             "client_for": null,
             "crop_forei": null,
             "landuse_fo": null,
             "parcel_for": "17",
             "parcel_id": 18
            },
            "type": "Feature"
           },
           {
            "geometry": {
             "coordinates": [
              [
               [
                [
                 3.004901452991404,
                 47.46270150300753
                ],
                [
                 3.004901452991404,
                 47.4692350580431
                ],
                [
                 3.009163531612488,
                 47.4692350580431
                ],
                [
                 3.009163531612488,
                 47.46270150300753
                ],
                [
                 3.004901452991404,
                 47.46270150300753
                ]
               ]
              ]
             ],
             "type": "MultiPolygon"
            },
            "id": 21,
            "properties": {
             "area": 30.9371571272508,
             "client_for": null,
             "crop_forei": null,
             "landuse_fo": null,
             "parcel_for": "20",
             "parcel_id": 21
            },
            "type": "Feature"
           },
           {
            "geometry": {
             "coordinates": [
              [
               [
                [
                 3.0392195031228,
                 47.49452747719124
                ],
                [
                 3.0392195031228,
                 47.497445786695486
                ],
                [
                 3.044382693742979,
                 47.497445786695486
                ],
                [
                 3.044382693742979,
                 47.49452747719124
                ],
                [
                 3.0392195031228,
                 47.49452747719124
                ]
               ]
              ]
             ],
             "type": "MultiPolygon"
            },
            "id": 22,
            "properties": {
             "area": 10.887057144790166,
             "client_for": null,
             "crop_forei": null,
             "landuse_fo": null,
             "parcel_for": "21",
             "parcel_id": 22
            },
            "type": "Feature"
           },
           {
            "geometry": {
             "coordinates": [
              [
               [
                [
                 3.069398833229994,
                 47.42548532848853
                ],
                [
                 3.069398833229994,
                 47.432188423584826
                ],
                [
                 3.078322511006403,
                 47.432188423584826
                ],
                [
                 3.078322511006403,
                 47.42548532848853
                ],
                [
                 3.069398833229994,
                 47.42548532848853
                ]
               ]
              ]
             ],
             "type": "MultiPolygon"
            },
            "id": 23,
            "properties": {
             "area": 66.29505600200103,
             "client_for": null,
             "crop_forei": null,
             "landuse_fo": null,
             "parcel_for": "22",
             "parcel_id": 23
            },
            "type": "Feature"
           },
           {
            "geometry": {
             "coordinates": [
              [
               [
                [
                 3.139217872291504,
                 47.463193173882225
                ],
                [
                 3.139217872291504,
                 47.470327226025
                ],
                [
                 3.156359387316241,
                 47.470327226025
                ],
                [
                 3.156359387316241,
                 47.463193173882225
                ],
                [
                 3.139217872291504,
                 47.463193173882225
                ]
               ]
              ]
             ],
             "type": "MultiPolygon"
            },
            "id": 24,
            "properties": {
             "area": 141.21037958081666,
             "client_for": null,
             "crop_forei": null,
             "landuse_fo": null,
             "parcel_for": "23",
             "parcel_id": 24
            },
            "type": "Feature"
           },
           {
            "geometry": {
             "coordinates": [
              [
               [
                [
                 3.099039621292576,
                 47.44057189709964
                ],
                [
                 3.099039621292576,
                 47.4474986942827
                ],
                [
                 3.113542772945554,
                 47.4474986942827
                ],
                [
                 3.113542772945554,
                 47.44057189709964
                ],
                [
                 3.099039621292576,
                 47.44057189709964
                ]
               ]
              ]
             ],
             "type": "MultiPolygon"
            },
            "id": 25,
            "properties": {
             "area": 107.68666298693076,
             "client_for": null,
             "crop_forei": null,
             "landuse_fo": null,
             "parcel_for": "24",
             "parcel_id": 25
            },
            "type": "Feature"
           },
           {
            "geometry": {
             "coordinates": [
              [
               [
                [
                 3.065884273358637,
                 47.384329798462055
                ],
                [
                 3.065884273358637,
                 47.38837872341962
                ],
                [
                 3.07202124208871,
                 47.38837872341962
                ],
                [
                 3.07202124208871,
                 47.384329798462055
                ],
                [
                 3.065884273358637,
                 47.384329798462055
                ]
               ]
              ]
             ],
             "type": "MultiPolygon"
            },
            "id": 28,
            "properties": {
             "area": 25.85821944377284,
             "client_for": null,
             "crop_forei": null,
             "landuse_fo": null,
             "parcel_for": "27",
             "parcel_id": 28
            },
            "type": "Feature"
           },
           {
            "geometry": {
             "coordinates": [
              [
               [
                [
                 3.090105892035497,
                 47.36720826114611
                ],
                [
                 3.090105892035497,
                 47.37208815228671
                ],
                [
                 3.096477928045887,
                 47.37208815228671
                ],
                [
                 3.096477928045887,
                 47.36720826114611
                ],
                [
                 3.090105892035497,
                 47.36720826114611
                ]
               ]
              ]
             ],
             "type": "MultiPolygon"
            },
            "id": 29,
            "properties": {
             "area": 24.849150353220224,
             "client_for": null,
             "crop_forei": null,
             "landuse_fo": null,
             "parcel_for": "28",
             "parcel_id": 29
            },
            "type": "Feature"
           },
           {
            "geometry": {
             "coordinates": [
              [
               [
                [
                 3.115661190507469,
                 47.35812425073824
                ],
                [
                 3.115661190507469,
                 47.36155605739924
                ],
                [
                 3.118899390210201,
                 47.36155605739924
                ],
                [
                 3.118899390210201,
                 47.35812425073824
                ],
                [
                 3.115661190507469,
                 47.35812425073824
                ]
               ]
              ]
             ],
             "type": "MultiPolygon"
            },
            "id": 33,
            "properties": {
             "area": 7.342280457072978,
             "client_for": null,
             "crop_forei": null,
             "landuse_fo": null,
             "parcel_for": "32",
             "parcel_id": 33
            },
            "type": "Feature"
           },
           {
            "geometry": {
             "coordinates": [
              [
               [
                [
                 3.151272889426618,
                 47.43079835035338
                ],
                [
                 3.151272889426618,
                 47.436011507610644
                ],
                [
                 3.158610246958578,
                 47.436011507610644
                ],
                [
                 3.158610246958578,
                 47.43079835035338
                ],
                [
                 3.151272889426618,
                 47.43079835035338
                ]
               ]
              ]
             ],
             "type": "MultiPolygon"
            },
            "id": 30,
            "properties": {
             "area": 36.892833219638405,
             "client_for": null,
             "crop_forei": null,
             "landuse_fo": null,
             "parcel_for": "29",
             "parcel_id": 30
            },
            "type": "Feature"
           },
           {
            "geometry": {
             "coordinates": [
              [
               [
                [
                 3.125275690163909,
                 47.321093986341
                ],
                [
                 3.125275690163909,
                 47.32590505846349
                ],
                [
                 3.128625594437973,
                 47.32590505846349
                ],
                [
                 3.128625594437973,
                 47.321093986341
                ],
                [
                 3.125275690163909,
                 47.321093986341
                ]
               ]
              ]
             ],
             "type": "MultiPolygon"
            },
            "id": 37,
            "properties": {
             "area": 15.6099058177205,
             "client_for": null,
             "crop_forei": null,
             "landuse_fo": null,
             "parcel_for": "36",
             "parcel_id": 37
            },
            "type": "Feature"
           },
           {
            "geometry": {
             "coordinates": [
              [
               [
                [
                 3.114068918985816,
                 47.3927626417814
                ],
                [
                 3.114068918985816,
                 47.400216492133936
                ],
                [
                 3.123162706540684,
                 47.400216492133936
                ],
                [
                 3.123162706540684,
                 47.3927626417814
                ],
                [
                 3.114068918985816,
                 47.3927626417814
                ]
               ]
              ]
             ],
             "type": "MultiPolygon"
            },
            "id": 31,
            "properties": {
             "area": 74.4322532520564,
             "client_for": null,
             "crop_forei": null,
             "landuse_fo": null,
             "parcel_for": "30",
             "parcel_id": 31
            },
            "type": "Feature"
           },
           {
            "geometry": {
             "coordinates": [
              [
               [
                [
                 3.104595170485265,
                 47.42829360927381
                ],
                [
                 3.104595170485265,
                 47.43476806968629
                ],
                [
                 3.112657898742393,
                 47.43476806968629
                ],
                [
                 3.112657898742393,
                 47.42829360927381
                ],
                [
                 3.104595170485265,
                 47.42829360927381
                ]
               ]
              ]
             ],
             "type": "MultiPolygon"
            },
            "id": 32,
            "properties": {
             "area": 46.536981369671594,
             "client_for": null,
             "crop_forei": null,
             "landuse_fo": null,
             "parcel_for": "31",
             "parcel_id": 32
            },
            "type": "Feature"
           },
           {
            "geometry": {
             "coordinates": [
              [
               [
                [
                 2.893538417745612,
                 47.30510560919492
                ],
                [
                 2.893538417745612,
                 47.306551773462154
                ],
                [
                 2.898172708315077,
                 47.306551773462154
                ],
                [
                 2.898172708315077,
                 47.30510560919492
                ],
                [
                 2.893538417745612,
                 47.30510560919492
                ]
               ]
              ]
             ],
             "type": "MultiPolygon"
            },
            "id": 54,
            "properties": {
             "area": 7.02954600501682,
             "client_for": null,
             "crop_forei": null,
             "landuse_fo": null,
             "parcel_for": "53",
             "parcel_id": 54
            },
            "type": "Feature"
           },
           {
            "geometry": {
             "coordinates": [
              [
               [
                [
                 2.880771911420855,
                 47.33577385608801
                ],
                [
                 2.880771911420855,
                 47.340922963368136
                ],
                [
                 2.890678027431005,
                 47.340922963368136
                ],
                [
                 2.890678027431005,
                 47.33577385608801
                ],
                [
                 2.880771911420855,
                 47.33577385608801
                ]
               ]
              ]
             ],
             "type": "MultiPolygon"
            },
            "id": 55,
            "properties": {
             "area": 67.02116517268011,
             "client_for": null,
             "crop_forei": null,
             "landuse_fo": null,
             "parcel_for": "54",
             "parcel_id": 55
            },
            "type": "Feature"
           },
           {
            "geometry": {
             "coordinates": [
              [
               [
                [
                 3.128859445211225,
                 47.30191998938141
                ],
                [
                 3.128859445211225,
                 47.3108151210184
                ],
                [
                 3.136277332205718,
                 47.3108151210184
                ],
                [
                 3.136277332205718,
                 47.30191998938141
                ],
                [
                 3.128859445211225,
                 47.30191998938141
                ]
               ]
              ]
             ],
             "type": "MultiPolygon"
            },
            "id": 34,
            "properties": {
             "area": 59.23457585080323,
             "client_for": null,
             "crop_forei": null,
             "landuse_fo": null,
             "parcel_for": "33",
             "parcel_id": 34
            },
            "type": "Feature"
           },
           {
            "geometry": {
             "coordinates": [
              [
               [
                [
                 3.058931934293062,
                 47.41537248234977
                ],
                [
                 3.058931934293062,
                 47.419662678016294
                ],
                [
                 3.065636325991663,
                 47.419662678016294
                ],
                [
                 3.065636325991663,
                 47.41537248234977
                ],
                [
                 3.058931934293062,
                 47.41537248234977
                ]
               ]
              ]
             ],
             "type": "MultiPolygon"
            },
            "id": 38,
            "properties": {
             "area": 17.049260816339707,
             "client_for": null,
             "crop_forei": null,
             "landuse_fo": null,
             "parcel_for": "37",
             "parcel_id": 38
            },
            "type": "Feature"
           },
           {
            "geometry": {
             "coordinates": [
              [
               [
                [
                 3.117424947569183,
                 47.2986281911334
                ],
                [
                 3.117424947569183,
                 47.30519678239187
                ],
                [
                 3.123651935584061,
                 47.30519678239187
                ],
                [
                 3.123651935584061,
                 47.2986281911334
                ],
                [
                 3.117424947569183,
                 47.2986281911334
                ]
               ]
              ]
             ],
             "type": "MultiPolygon"
            },
            "id": 35,
            "properties": {
             "area": 57.38450212087027,
             "client_for": null,
             "crop_forei": null,
             "landuse_fo": null,
             "parcel_for": "34",
             "parcel_id": 35
            },
            "type": "Feature"
           },
           {
            "geometry": {
             "coordinates": [
              [
               [
                [
                 3.12180393202666,
                 47.33967777460492
                ],
                [
                 3.12180393202666,
                 47.343309276124664
                ],
                [
                 3.125970482409605,
                 47.343309276124664
                ],
                [
                 3.125970482409605,
                 47.33967777460492
                ],
                [
                 3.12180393202666,
                 47.33967777460492
                ]
               ]
              ]
             ],
             "type": "MultiPolygon"
            },
            "id": 36,
            "properties": {
             "area": 12.134448787474444,
             "client_for": null,
             "crop_forei": null,
             "landuse_fo": null,
             "parcel_for": "35",
             "parcel_id": 36
            },
            "type": "Feature"
           },
           {
            "geometry": {
             "coordinates": [
              [
               [
                [
                 3.097128087151748,
                 47.34590140475115
                ],
                [
                 3.097128087151748,
                 47.353351290557804
                ],
                [
                 3.106328332752861,
                 47.353351290557804
                ],
                [
                 3.106328332752861,
                 47.34590140475115
                ],
                [
                 3.097128087151748,
                 47.34590140475115
                ]
               ]
              ]
             ],
             "type": "MultiPolygon"
            },
            "id": 39,
            "properties": {
             "area": 55.56648173688648,
             "client_for": null,
             "crop_forei": null,
             "landuse_fo": null,
             "parcel_for": "38",
             "parcel_id": 39
            },
            "type": "Feature"
           },
           {
            "geometry": {
             "coordinates": [
              [
               [
                [
                 2.985967529845033,
                 47.388082044841816
                ],
                [
                 2.985967529845033,
                 47.395122192527765
                ],
                [
                 2.994136821831922,
                 47.395122192527765
                ],
                [
                 2.994136821831922,
                 47.388082044841816
                ],
                [
                 2.985967529845033,
                 47.388082044841816
                ]
               ]
              ]
             ],
             "type": "MultiPolygon"
            },
            "id": 45,
            "properties": {
             "area": 44.76119419160041,
             "client_for": null,
             "crop_forei": null,
             "landuse_fo": null,
             "parcel_for": "44",
             "parcel_id": 45
            },
            "type": "Feature"
           },
           {
            "geometry": {
             "coordinates": [
              [
               [
                [
                 3.093833679909345,
                 47.45998025472023
                ],
                [
                 3.093833679909345,
                 47.46269794281795
                ],
                [
                 3.097227977239178,
                 47.46269794281795
                ],
                [
                 3.097227977239178,
                 47.45998025472023
                ],
                [
                 3.093833679909345,
                 47.45998025472023
                ]
               ]
              ]
             ],
             "type": "MultiPolygon"
            },
            "id": 46,
            "properties": {
             "area": 11.076447454549667,
             "client_for": null,
             "crop_forei": null,
             "landuse_fo": null,
             "parcel_for": "45",
             "parcel_id": 46
            },
            "type": "Feature"
           },
           {
            "geometry": {
             "coordinates": [
              [
               [
                [
                 3.002963071324003,
                 47.408594254527365
                ],
                [
                 3.002963071324003,
                 47.415656982094994
                ],
                [
                 3.01513428455298,
                 47.415656982094994
                ],
                [
                 3.01513428455298,
                 47.408594254527365
                ],
                [
                 3.002963071324003,
                 47.408594254527365
                ]
               ]
              ]
             ],
             "type": "MultiPolygon"
            },
            "id": 47,
            "properties": {
             "area": 81.95851944071768,
             "client_for": null,
             "crop_forei": null,
             "landuse_fo": null,
             "parcel_for": "46",
             "parcel_id": 47
            },
            "type": "Feature"
           },
           {
            "geometry": {
             "coordinates": [
              [
               [
                [
                 2.863921904854104,
                 47.384083985624734
                ],
                [
                 2.863921904854104,
                 47.38568469770869
                ],
                [
                 2.866423547620816,
                 47.38568469770869
                ],
                [
                 2.866423547620816,
                 47.384083985624734
                ],
                [
                 2.863921904854104,
                 47.384083985624734
                ]
               ]
              ]
             ],
             "type": "MultiPolygon"
            },
            "id": 73,
            "properties": {
             "area": 4.332338375106499,
             "client_for": null,
             "crop_forei": null,
             "landuse_fo": null,
             "parcel_for": "72",
             "parcel_id": 73
            },
            "type": "Feature"
           },
           {
            "geometry": {
             "coordinates": [
              [
               [
                [
                 3.039805155375621,
                 47.41324913455683
                ],
                [
                 3.039805155375621,
                 47.41713795954642
                ],
                [
                 3.049403110360055,
                 47.41713795954642
                ],
                [
                 3.049403110360055,
                 47.41324913455683
                ],
                [
                 3.039805155375621,
                 47.41324913455683
                ]
               ]
              ]
             ],
             "type": "MultiPolygon"
            },
            "id": 48,
            "properties": {
             "area": 36.424098328707714,
             "client_for": null,
             "crop_forei": null,
             "landuse_fo": null,
             "parcel_for": "47",
             "parcel_id": 48
            },
            "type": "Feature"
           },
           {
            "geometry": {
             "coordinates": [
              [
               [
                [
                 3.130073259252586,
                 47.36420180950998
                ],
                [
                 3.130073259252586,
                 47.37010770142501
                ],
                [
                 3.139644208485237,
                 47.37010770142501
                ],
                [
                 3.139644208485237,
                 47.36420180950998
                ],
                [
                 3.130073259252586,
                 47.36420180950998
                ]
               ]
              ]
             ],
             "type": "MultiPolygon"
            },
            "id": 49,
            "properties": {
             "area": 45.40761603638537,
             "client_for": null,
             "crop_forei": null,
             "landuse_fo": null,
             "parcel_for": "48",
             "parcel_id": 49
            },
            "type": "Feature"
           },
           {
            "geometry": {
             "coordinates": [
              [
               [
                [
                 3.031261812636198,
                 47.35494993856781
                ],
                [
                 3.031261812636198,
                 47.36106704637623
                ],
                [
                 3.040411521557176,
                 47.36106704637623
                ],
                [
                 3.040411521557176,
                 47.35494993856781
                ],
                [
                 3.031261812636198,
                 47.35494993856781
                ]
               ]
              ]
             ],
             "type": "MultiPolygon"
            },
            "id": 50,
            "properties": {
             "area": 53.72905173312056,
             "client_for": null,
             "crop_forei": null,
             "landuse_fo": null,
             "parcel_for": "49",
             "parcel_id": 50
            },
            "type": "Feature"
           },
           {
            "geometry": {
             "coordinates": [
              [
               [
                [
                 3.080457520924354,
                 47.201639737596665
                ],
                [
                 3.080457520924354,
                 47.2082100370615
                ],
                [
                 3.094420669402032,
                 47.2082100370615
                ],
                [
                 3.094420669402032,
                 47.201639737596665
                ],
                [
                 3.080457520924354,
                 47.201639737596665
                ]
               ]
              ]
             ],
             "type": "MultiPolygon"
            },
            "id": 74,
            "properties": {
             "area": 101.05509446259678,
             "client_for": null,
             "crop_forei": null,
             "landuse_fo": null,
             "parcel_for": "73",
             "parcel_id": 74
            },
            "type": "Feature"
           },
           {
            "geometry": {
             "coordinates": [
              [
               [
                [
                 2.907604942399367,
                 47.32993468831987
                ],
                [
                 2.907604942399367,
                 47.33822468756414
                ],
                [
                 2.918505564243221,
                 47.33822468756414
                ],
                [
                 2.918505564243221,
                 47.32993468831987
                ],
                [
                 2.907604942399367,
                 47.32993468831987
                ]
               ]
              ]
             ],
             "type": "MultiPolygon"
            },
            "id": 75,
            "properties": {
             "area": 59.22868431856984,
             "client_for": null,
             "crop_forei": null,
             "landuse_fo": null,
             "parcel_for": "74",
             "parcel_id": 75
            },
            "type": "Feature"
           },
           {
            "geometry": {
             "coordinates": [
              [
               [
                [
                 3.0498689266395,
                 47.37280792972849
                ],
                [
                 3.0498689266395,
                 47.37623765627124
                ],
                [
                 3.054239833625552,
                 47.37623765627124
                ],
                [
                 3.054239833625552,
                 47.37280792972849
                ],
                [
                 3.0498689266395,
                 47.37280792972849
                ]
               ]
              ]
             ],
             "type": "MultiPolygon"
            },
            "id": 51,
            "properties": {
             "area": 14.623782903061144,
             "client_for": null,
             "crop_forei": null,
             "landuse_fo": null,
             "parcel_for": "50",
             "parcel_id": 51
            },
            "type": "Feature"
           },
           {
            "geometry": {
             "coordinates": [
              [
               [
                [
                 2.976458200762161,
                 47.35015927618079
                ],
                [
                 2.976458200762161,
                 47.35385109438841
                ],
                [
                 2.984473515562675,
                 47.35385109438841
                ],
                [
                 2.984473515562675,
                 47.35015927618079
                ],
                [
                 2.976458200762161,
                 47.35015927618079
                ]
               ]
              ]
             ],
             "type": "MultiPolygon"
            },
            "id": 52,
            "properties": {
             "area": 22.83004292217767,
             "client_for": null,
             "crop_forei": null,
             "landuse_fo": null,
             "parcel_for": "51",
             "parcel_id": 52
            },
            "type": "Feature"
           },
           {
            "geometry": {
             "coordinates": [
              [
               [
                [
                 2.879437542480308,
                 47.39209710277075
                ],
                [
                 2.879437542480308,
                 47.39721385274977
                ],
                [
                 2.886154833878817,
                 47.39721385274977
                ],
                [
                 2.886154833878817,
                 47.39209710277075
                ],
                [
                 2.879437542480308,
                 47.39209710277075
                ]
               ]
              ]
             ],
             "type": "MultiPolygon"
            },
            "id": 53,
            "properties": {
             "area": 26.02949202807716,
             "client_for": null,
             "crop_forei": null,
             "landuse_fo": null,
             "parcel_for": "52",
             "parcel_id": 53
            },
            "type": "Feature"
           },
           {
            "geometry": {
             "coordinates": [
              [
               [
                [
                 2.839380850456494,
                 47.378736194622206
                ],
                [
                 2.839380850456494,
                 47.383548286515875
                ],
                [
                 2.845720261137985,
                 47.383548286515875
                ],
                [
                 2.845720261137985,
                 47.378736194622206
                ],
                [
                 2.839380850456494,
                 47.378736194622206
                ]
               ]
              ]
             ],
             "type": "MultiPolygon"
            },
            "id": 56,
            "properties": {
             "area": 33.503977161448894,
             "client_for": null,
             "crop_forei": null,
             "landuse_fo": null,
             "parcel_for": "55",
             "parcel_id": 56
            },
            "type": "Feature"
           },
           {
            "geometry": {
             "coordinates": [
              [
               [
                [
                 2.847705642677363,
                 47.33764635519602
                ],
                [
                 2.847705642677363,
                 47.34170033221465
                ],
                [
                 2.85381338468326,
                 47.34170033221465
                ],
                [
                 2.85381338468326,
                 47.33764635519602
                ],
                [
                 2.847705642677363,
                 47.33764635519602
                ]
               ]
              ]
             ],
             "type": "MultiPolygon"
            },
            "id": 57,
            "properties": {
             "area": 27.349670591927946,
             "client_for": null,
             "crop_forei": null,
             "landuse_fo": null,
             "parcel_for": "56",
             "parcel_id": 57
            },
            "type": "Feature"
           },
           {
            "geometry": {
             "coordinates": [
              [
               [
                [
                 3.043187248703601,
                 47.22285275746264
                ],
                [
                 3.043187248703601,
                 47.22715362172541
                ],
                [
                 3.052739277902428,
                 47.22715362172541
                ],
                [
                 3.052739277902428,
                 47.22285275746264
                ],
                [
                 3.043187248703601,
                 47.22285275746264
                ]
               ]
              ]
             ],
             "type": "MultiPolygon"
            },
            "id": 58,
            "properties": {
             "area": 39.99831756898494,
             "client_for": null,
             "crop_forei": null,
             "landuse_fo": null,
             "parcel_for": "57",
             "parcel_id": 58
            },
            "type": "Feature"
           },
           {
            "geometry": {
             "coordinates": [
              [
               [
                [
                 2.965486839909109,
                 47.32835400312282
                ],
                [
                 2.965486839909109,
                 47.331482103245776
                ],
                [
                 2.971771310678825,
                 47.331482103245776
                ],
                [
                 2.971771310678825,
                 47.32835400312282
                ],
                [
                 2.965486839909109,
                 47.32835400312282
                ]
               ]
              ]
             ],
             "type": "MultiPolygon"
            },
            "id": 59,
            "properties": {
             "area": 19.2513448011084,
             "client_for": null,
             "crop_forei": null,
             "landuse_fo": null,
             "parcel_for": "58",
             "parcel_id": 59
            },
            "type": "Feature"
           },
           {
            "geometry": {
             "coordinates": [
              [
               [
                [
                 2.976939687230793,
                 47.295008422938935
                ],
                [
                 2.976939687230793,
                 47.304194578818816
                ],
                [
                 2.98945660663149,
                 47.304194578818816
                ],
                [
                 2.98945660663149,
                 47.295008422938935
                ],
                [
                 2.976939687230793,
                 47.295008422938935
                ]
               ]
              ]
             ],
             "type": "MultiPolygon"
            },
            "id": 60,
            "properties": {
             "area": 110.07757126522286,
             "client_for": null,
             "crop_forei": null,
             "landuse_fo": null,
             "parcel_for": "59",
             "parcel_id": 60
            },
            "type": "Feature"
           },
           {
            "geometry": {
             "coordinates": [
              [
               [
                [
                 3.028377817786696,
                 47.29920221643308
                ],
                [
                 3.028377817786696,
                 47.3013358130723
                ],
                [
                 3.031386622460793,
                 47.3013358130723
                ],
                [
                 3.031386622460793,
                 47.29920221643308
                ],
                [
                 3.028377817786696,
                 47.29920221643308
                ]
               ]
              ]
             ],
             "type": "MultiPolygon"
            },
            "id": 61,
            "properties": {
             "area": 6.724231047913988,
             "client_for": null,
             "crop_forei": null,
             "landuse_fo": null,
             "parcel_for": "60",
             "parcel_id": 61
            },
            "type": "Feature"
           },
           {
            "geometry": {
             "coordinates": [
              [
               [
                [
                 3.029722914912347,
                 47.26950251945636
                ],
                [
                 3.029722914912347,
                 47.27242597424552
                ],
                [
                 3.033819318720381,
                 47.27242597424552
                ],
                [
                 3.033819318720381,
                 47.26950251945636
                ],
                [
                 3.029722914912347,
                 47.26950251945636
                ]
               ]
              ]
             ],
             "type": "MultiPolygon"
            },
            "id": 62,
            "properties": {
             "area": 12.389870971183106,
             "client_for": null,
             "crop_forei": null,
             "landuse_fo": null,
             "parcel_for": "61",
             "parcel_id": 62
            },
            "type": "Feature"
           },
           {
            "geometry": {
             "coordinates": [
              [
               [
                [
                 3.065681067670982,
                 47.313138208294895
                ],
                [
                 3.065681067670982,
                 47.315991127865246
                ],
                [
                 3.071290693690146,
                 47.315991127865246
                ],
                [
                 3.071290693690146,
                 47.313138208294895
                ],
                [
                 3.065681067670982,
                 47.313138208294895
                ]
               ]
              ]
             ],
             "type": "MultiPolygon"
            },
            "id": 63,
            "properties": {
             "area": 16.22605214687426,
             "client_for": null,
             "crop_forei": null,
             "landuse_fo": null,
             "parcel_for": "62",
             "parcel_id": 63
            },
            "type": "Feature"
           },
           {
            "geometry": {
             "coordinates": [
              [
               [
                [
                 3.082718766554263,
                 47.247647727933504
                ],
                [
                 3.082718766554263,
                 47.2559141044308
                ],
                [
                 3.090982008861931,
                 47.2559141044308
                ],
                [
                 3.090982008861931,
                 47.247647727933504
                ],
                [
                 3.082718766554263,
                 47.247647727933504
                ]
               ]
              ]
             ],
             "type": "MultiPolygon"
            },
            "id": 64,
            "properties": {
             "area": 50.328292035654265,
             "client_for": null,
             "crop_forei": null,
             "landuse_fo": null,
             "parcel_for": "63",
             "parcel_id": 64
            },
            "type": "Feature"
           },
           {
            "geometry": {
             "coordinates": [
              [
               [
                [
                 2.934881885846852,
                 47.36860799385725
                ],
                [
                 2.934881885846852,
                 47.376494127901374
                ],
                [
                 2.94586193485065,
                 47.376494127901374
                ],
                [
                 2.94586193485065,
                 47.36860799385725
                ],
                [
                 2.934881885846852,
                 47.36860799385725
                ]
               ]
              ]
             ],
             "type": "MultiPolygon"
            },
            "id": 65,
            "properties": {
             "area": 75.2056123044306,
             "client_for": null,
             "crop_forei": null,
             "landuse_fo": null,
             "parcel_for": "64",
             "parcel_id": 65
            },
            "type": "Feature"
           },
           {
            "geometry": {
             "coordinates": [
              [
               [
                [
                 2.943887369871619,
                 47.31072323389306
                ],
                [
                 2.943887369871619,
                 47.31590615619696
                ],
                [
                 2.951667932698666,
                 47.31590615619696
                ],
                [
                 2.951667932698666,
                 47.31072323389306
                ],
                [
                 2.943887369871619,
                 47.31072323389306
                ]
               ]
              ]
             ],
             "type": "MultiPolygon"
            },
            "id": 66,
            "properties": {
             "area": 35.58328427018181,
             "client_for": null,
             "crop_forei": null,
             "landuse_fo": null,
             "parcel_for": "65",
             "parcel_id": 66
            },
            "type": "Feature"
           },
           {
            "geometry": {
             "coordinates": [
              [
               [
                [
                 2.7733535709069,
                 47.30666806276925
                ],
                [
                 2.7733535709069,
                 47.30969342038425
                ],
                [
                 2.778070931867256,
                 47.30969342038425
                ],
                [
                 2.778070931867256,
                 47.30666806276925
                ],
                [
                 2.7733535709069,
                 47.30666806276925
                ]
               ]
              ]
             ],
             "type": "MultiPolygon"
            },
            "id": 78,
            "properties": {
             "area": 11.398558700773702,
             "client_for": null,
             "crop_forei": null,
             "landuse_fo": null,
             "parcel_for": "77",
             "parcel_id": 78
            },
            "type": "Feature"
           },
           {
            "geometry": {
             "coordinates": [
              [
               [
                [
                 2.907027646226539,
                 47.38109487974556
                ],
                [
                 2.907027646226539,
                 47.38590952856863
                ],
                [
                 2.917004709497971,
                 47.38590952856863
                ],
                [
                 2.917004709497971,
                 47.38109487974556
                ],
                [
                 2.907027646226539,
                 47.38109487974556
                ]
               ]
              ]
             ],
             "type": "MultiPolygon"
            },
            "id": 67,
            "properties": {
             "area": 50.747474590906954,
             "client_for": null,
             "crop_forei": null,
             "landuse_fo": null,
             "parcel_for": "66",
             "parcel_id": 67
            },
            "type": "Feature"
           },
           {
            "geometry": {
             "coordinates": [
              [
               [
                [
                 2.970689502603852,
                 47.30480006701702
                ],
                [
                 2.970689502603852,
                 47.30632495504802
                ],
                [
                 2.972806605480874,
                 47.30632495504802
                ],
                [
                 2.972806605480874,
                 47.30480006701702
                ],
                [
                 2.970689502603852,
                 47.30480006701702
                ]
               ]
              ]
             ],
             "type": "MultiPolygon"
            },
            "id": 155,
            "properties": {
             "area": 3.773545312032454,
             "client_for": null,
             "crop_forei": null,
             "landuse_fo": null,
             "parcel_for": "154",
             "parcel_id": 155
            },
            "type": "Feature"
           },
           {
            "geometry": {
             "coordinates": [
              [
               [
                [
                 3.134945409825141,
                 47.21253404304333
                ],
                [
                 3.134945409825141,
                 47.219901571054976
                ],
                [
                 3.143111284361219,
                 47.219901571054976
                ],
                [
                 3.143111284361219,
                 47.21253404304333
                ],
                [
                 3.134945409825141,
                 47.21253404304333
                ]
               ]
              ]
             ],
             "type": "MultiPolygon"
            },
            "id": 68,
            "properties": {
             "area": 56.29767949956209,
             "client_for": null,
             "crop_forei": null,
             "landuse_fo": null,
             "parcel_for": "67",
             "parcel_id": 68
            },
            "type": "Feature"
           },
           {
            "geometry": {
             "coordinates": [
              [
               [
                [
                 2.874887320130337,
                 47.360146570602154
                ],
                [
                 2.874887320130337,
                 47.370588765408286
                ],
                [
                 2.884375791443483,
                 47.370588765408286
                ],
                [
                 2.884375791443483,
                 47.360146570602154
                ],
                [
                 2.874887320130337,
                 47.360146570602154
                ]
               ]
              ]
             ],
             "type": "MultiPolygon"
            },
            "id": 69,
            "properties": {
             "area": 97.62364125537287,
             "client_for": null,
             "crop_forei": null,
             "landuse_fo": null,
             "parcel_for": "68",
             "parcel_id": 69
            },
            "type": "Feature"
           },
           {
            "geometry": {
             "coordinates": [
              [
               [
                [
                 3.029432685377791,
                 47.311681466671466
                ],
                [
                 3.029432685377791,
                 47.31708654811865
                ],
                [
                 3.040144073927001,
                 47.31708654811865
                ],
                [
                 3.040144073927001,
                 47.311681466671466
                ],
                [
                 3.029432685377791,
                 47.311681466671466
                ]
               ]
              ]
             ],
             "type": "MultiPolygon"
            },
            "id": 70,
            "properties": {
             "area": 52.60593013024644,
             "client_for": null,
             "crop_forei": null,
             "landuse_fo": null,
             "parcel_for": "69",
             "parcel_id": 70
            },
            "type": "Feature"
           },
           {
            "geometry": {
             "coordinates": [
              [
               [
                [
                 3.119312766284849,
                 47.25144330662275
                ],
                [
                 3.119312766284849,
                 47.2602365056352
                ],
                [
                 3.134492498427732,
                 47.2602365056352
                ],
                [
                 3.134492498427732,
                 47.25144330662275
                ],
                [
                 3.119312766284849,
                 47.25144330662275
                ]
               ]
              ]
             ],
             "type": "MultiPolygon"
            },
            "id": 71,
            "properties": {
             "area": 150.04205960315036,
             "client_for": null,
             "crop_forei": null,
             "landuse_fo": null,
             "parcel_for": "70",
             "parcel_id": 71
            },
            "type": "Feature"
           },
           {
            "geometry": {
             "coordinates": [
              [
               [
                [
                 3.080269026294919,
                 47.274817726739535
                ],
                [
                 3.080269026294919,
                 47.28538863953061
                ],
                [
                 3.093347293513546,
                 47.28538863953061
                ],
                [
                 3.093347293513546,
                 47.274817726739535
                ],
                [
                 3.080269026294919,
                 47.274817726739535
                ]
               ]
              ]
             ],
             "type": "MultiPolygon"
            },
            "id": 72,
            "properties": {
             "area": 129.13592324814627,
             "client_for": null,
             "crop_forei": null,
             "landuse_fo": null,
             "parcel_for": "71",
             "parcel_id": 72
            },
            "type": "Feature"
           },
           {
            "geometry": {
             "coordinates": [
              [
               [
                [
                 2.788159345924787,
                 47.36945111043539
                ],
                [
                 2.788159345924787,
                 47.37047380342958
                ],
                [
                 2.790446837719201,
                 47.37047380342958
                ],
                [
                 2.790446837719201,
                 47.36945111043539
                ],
                [
                 2.788159345924787,
                 47.36945111043539
                ]
               ]
              ]
             ],
             "type": "MultiPolygon"
            },
            "id": 156,
            "properties": {
             "area": 3.538721391050366,
             "client_for": null,
             "crop_forei": null,
             "landuse_fo": null,
             "parcel_for": "155",
             "parcel_id": 156
            },
            "type": "Feature"
           },
           {
            "geometry": {
             "coordinates": [
              [
               [
                [
                 2.721072390563064,
                 47.195604996871616
                ],
                [
                 2.721072390563064,
                 47.20128554555523
                ],
                [
                 2.726537317483408,
                 47.20128554555523
                ],
                [
                 2.726537317483408,
                 47.195604996871616
                ],
                [
                 2.721072390563064,
                 47.195604996871616
                ]
               ]
              ]
             ],
             "type": "MultiPolygon"
            },
            "id": 76,
            "properties": {
             "area": 34.90250628916351,
             "client_for": null,
             "crop_forei": null,
             "landuse_fo": null,
             "parcel_for": "75",
             "parcel_id": 76
            },
            "type": "Feature"
           },
           {
            "geometry": {
             "coordinates": [
              [
               [
                [
                 2.798232047287959,
                 47.37920254097996
                ],
                [
                 2.798232047287959,
                 47.38052323660688
                ],
                [
                 2.79917947551947,
                 47.38052323660688
                ],
                [
                 2.79917947551947,
                 47.37920254097996
                ],
                [
                 2.798232047287959,
                 47.37920254097996
                ]
               ]
              ]
             ],
             "type": "MultiPolygon"
            },
            "id": 157,
            "properties": {
             "area": 1.022408932642125,
             "client_for": null,
             "crop_forei": null,
             "landuse_fo": null,
             "parcel_for": "156",
             "parcel_id": 157
            },
            "type": "Feature"
           },
           {
            "geometry": {
             "coordinates": [
              [
               [
                [
                 2.757114402861754,
                 47.2356980786726
                ],
                [
                 2.757114402861754,
                 47.237890021184995
                ],
                [
                 2.760792329902728,
                 47.237890021184995
                ],
                [
                 2.760792329902728,
                 47.2356980786726
                ],
                [
                 2.757114402861754,
                 47.2356980786726
                ]
               ]
              ]
             ],
             "type": "MultiPolygon"
            },
            "id": 158,
            "properties": {
             "area": 10.238218365468922,
             "client_for": null,
             "crop_forei": null,
             "landuse_fo": null,
             "parcel_for": "157",
             "parcel_id": 158
            },
            "type": "Feature"
           },
           {
            "geometry": {
             "coordinates": [
              [
               [
                [
                 2.900336853592703,
                 47.21812672864342
                ],
                [
                 2.900336853592703,
                 47.223035574646495
                ],
                [
                 2.908420008335668,
                 47.223035574646495
                ],
                [
                 2.908420008335668,
                 47.21812672864342
                ],
                [
                 2.900336853592703,
                 47.21812672864342
                ]
               ]
              ]
             ],
             "type": "MultiPolygon"
            },
            "id": 77,
            "properties": {
             "area": 42.52116619600985,
             "client_for": null,
             "crop_forei": null,
             "landuse_fo": null,
             "parcel_for": "76",
             "parcel_id": 77
            },
            "type": "Feature"
           },
           {
            "geometry": {
             "coordinates": [
              [
               [
                [
                 2.889320309398593,
                 47.19997136480471
                ],
                [
                 2.889320309398593,
                 47.20673189753127
                ],
                [
                 2.899831637061445,
                 47.20673189753127
                ],
                [
                 2.899831637061445,
                 47.19997136480471
                ],
                [
                 2.889320309398593,
                 47.19997136480471
                ]
               ]
              ]
             ],
             "type": "MultiPolygon"
            },
            "id": 79,
            "properties": {
             "area": 79.3203949996467,
             "client_for": null,
             "crop_forei": null,
             "landuse_fo": null,
             "parcel_for": "78",
             "parcel_id": 79
            },
            "type": "Feature"
           },
           {
            "geometry": {
             "coordinates": [
              [
               [
                [
                 2.985774109154348,
                 47.222079278279985
                ],
                [
                 2.985774109154348,
                 47.22780676673993
                ],
                [
                 2.991581057168451,
                 47.22780676673993
                ],
                [
                 2.991581057168451,
                 47.222079278279985
                ],
                [
                 2.985774109154348,
                 47.222079278279985
                ]
               ]
              ]
             ],
             "type": "MultiPolygon"
            },
            "id": 95,
            "properties": {
             "area": 27.449925688354508,
             "client_for": null,
             "crop_forei": null,
             "landuse_fo": null,
             "parcel_for": "94",
             "parcel_id": 95
            },
            "type": "Feature"
           },
           {
            "geometry": {
             "coordinates": [
              [
               [
                [
                 2.722815003205483,
                 47.269451588862715
                ],
                [
                 2.722815003205483,
                 47.279640647757915
                ],
                [
                 2.737058786928225,
                 47.279640647757915
                ],
                [
                 2.737058786928225,
                 47.269451588862715
                ],
                [
                 2.722815003205483,
                 47.269451588862715
                ]
               ]
              ]
             ],
             "type": "MultiPolygon"
            },
            "id": 96,
            "properties": {
             "area": 143.80970226207978,
             "client_for": null,
             "crop_forei": null,
             "landuse_fo": null,
             "parcel_for": "95",
             "parcel_id": 96
            },
            "type": "Feature"
           },
           {
            "geometry": {
             "coordinates": [
              [
               [
                [
                 2.925305746094482,
                 47.20045681567938
                ],
                [
                 2.925305746094482,
                 47.20509523271073
                ],
                [
                 2.929671010070558,
                 47.20509523271073
                ],
                [
                 2.929671010070558,
                 47.20045681567938
                ],
                [
                 2.925305746094482,
                 47.20045681567938
                ]
               ]
              ]
             ],
             "type": "MultiPolygon"
            },
            "id": 80,
            "properties": {
             "area": 20.18633028745017,
             "client_for": null,
             "crop_forei": null,
             "landuse_fo": null,
             "parcel_for": "79",
             "parcel_id": 80
            },
            "type": "Feature"
           },
           {
            "geometry": {
             "coordinates": [
              [
               [
                [
                 2.734000539509681,
                 47.204618718374924
                ],
                [
                 2.734000539509681,
                 47.20857962141985
                ],
                [
                 2.748197109860626,
                 47.20857962141985
                ],
                [
                 2.748197109860626,
                 47.204618718374924
                ],
                [
                 2.734000539509681,
                 47.204618718374924
                ]
               ]
              ]
             ],
             "type": "MultiPolygon"
            },
            "id": 81,
            "properties": {
             "area": 45.87239153187856,
             "client_for": null,
             "crop_forei": null,
             "landuse_fo": null,
             "parcel_for": "80",
             "parcel_id": 81
            },
            "type": "Feature"
           },
           {
            "geometry": {
             "coordinates": [
              [
               [
                [
                 2.763878978452514,
                 47.324955878361735
                ],
                [
                 2.763878978452514,
                 47.32724272569972
                ],
                [
                 2.766060187967565,
                 47.32724272569972
                ],
                [
                 2.766060187967565,
                 47.324955878361735
                ],
                [
                 2.763878978452514,
                 47.324955878361735
                ]
               ]
              ]
             ],
             "type": "MultiPolygon"
            },
            "id": 97,
            "properties": {
             "area": 3.871968950202977,
             "client_for": null,
             "crop_forei": null,
             "landuse_fo": null,
             "parcel_for": "96",
             "parcel_id": 97
            },
            "type": "Feature"
           },
           {
            "geometry": {
             "coordinates": [
              [
               [
                [
                 2.752558597713177,
                 47.19595369170634
                ],
                [
                 2.752558597713177,
                 47.20115458363615
                ],
                [
                 2.759405129884352,
                 47.20115458363615
                ],
                [
                 2.759405129884352,
                 47.19595369170634
                ],
                [
                 2.752558597713177,
                 47.19595369170634
                ]
               ]
              ]
             ],
             "type": "MultiPolygon"
            },
            "id": 159,
            "properties": {
             "area": 29.95427623560531,
             "client_for": null,
             "crop_forei": null,
             "landuse_fo": null,
             "parcel_for": "158",
             "parcel_id": 159
            },
            "type": "Feature"
           },
           {
            "geometry": {
             "coordinates": [
              [
               [
                [
                 2.805203588041026,
                 47.33916829698288
                ],
                [
                 2.805203588041026,
                 47.33958776332059
                ],
                [
                 2.807602203042435,
                 47.33958776332059
                ],
                [
                 2.807602203042435,
                 47.33916829698288
                ],
                [
                 2.805203588041026,
                 47.33916829698288
                ]
               ]
              ]
             ],
             "type": "MultiPolygon"
            },
            "id": 160,
            "properties": {
             "area": 1.720453380134108,
             "client_for": null,
             "crop_forei": null,
             "landuse_fo": null,
             "parcel_for": "159",
             "parcel_id": 160
            },
            "type": "Feature"
           },
           {
            "geometry": {
             "coordinates": [
              [
               [
                [
                 2.782656277773814,
                 47.3350253301089
                ],
                [
                 2.782656277773814,
                 47.335458217579095
                ],
                [
                 2.783819367340388,
                 47.335458217579095
                ],
                [
                 2.783819367340388,
                 47.3350253301089
                ],
                [
                 2.782656277773814,
                 47.3350253301089
                ]
               ]
              ]
             ],
             "type": "MultiPolygon"
            },
            "id": 161,
            "properties": {
             "area": 0.905578935973131,
             "client_for": null,
             "crop_forei": null,
             "landuse_fo": null,
             "parcel_for": "160",
             "parcel_id": 161
            },
            "type": "Feature"
           },
           {
            "geometry": {
             "coordinates": [
              [
               [
                [
                 2.799319217716512,
                 47.227475779703305
                ],
                [
                 2.799319217716512,
                 47.23187508355181
                ],
                [
                 2.806749135582781,
                 47.23187508355181
                ],
                [
                 2.806749135582781,
                 47.227475779703305
                ],
                [
                 2.799319217716512,
                 47.227475779703305
                ]
               ]
              ]
             ],
             "type": "MultiPolygon"
            },
            "id": 82,
            "properties": {
             "area": 40.359225077077376,
             "client_for": null,
             "crop_forei": null,
             "landuse_fo": null,
             "parcel_for": "81",
             "parcel_id": 82
            },
            "type": "Feature"
           },
           {
            "geometry": {
             "coordinates": [
              [
               [
                [
                 2.735892812874022,
                 47.385464134281264
                ],
                [
                 2.735892812874022,
                 47.38874336460208
                ],
                [
                 2.738684795886378,
                 47.38874336460208
                ],
                [
                 2.738684795886378,
                 47.385464134281264
                ],
                [
                 2.735892812874022,
                 47.385464134281264
                ]
               ]
              ]
             ],
             "type": "MultiPolygon"
            },
            "id": 100,
            "properties": {
             "area": 12.435196251456976,
             "client_for": null,
             "crop_forei": null,
             "landuse_fo": null,
             "parcel_for": "99",
             "parcel_id": 100
            },
            "type": "Feature"
           },
           {
            "geometry": {
             "coordinates": [
              [
               [
                [
                 2.782581784068382,
                 47.333528605491885
                ],
                [
                 2.782581784068382,
                 47.334106269236905
                ],
                [
                 2.784173726900478,
                 47.334106269236905
                ],
                [
                 2.784173726900478,
                 47.333528605491885
                ],
                [
                 2.782581784068382,
                 47.333528605491885
                ]
               ]
              ]
             ],
             "type": "MultiPolygon"
            },
            "id": 162,
            "properties": {
             "area": 1.470012258188257,
             "client_for": null,
             "crop_forei": null,
             "landuse_fo": null,
             "parcel_for": "161",
             "parcel_id": 162
            },
            "type": "Feature"
           },
           {
            "geometry": {
             "coordinates": [
              [
               [
                [
                 2.883414556971061,
                 47.294003089191406
                ],
                [
                 2.883414556971061,
                 47.300108563107926
                ],
                [
                 2.896564175016847,
                 47.300108563107926
                ],
                [
                 2.896564175016847,
                 47.294003089191406
                ],
                [
                 2.883414556971061,
                 47.294003089191406
                ]
               ]
              ]
             ],
             "type": "MultiPolygon"
            },
            "id": 83,
            "properties": {
             "area": 65.27414920243393,
             "client_for": null,
             "crop_forei": null,
             "landuse_fo": null,
             "parcel_for": "82",
             "parcel_id": 83
            },
            "type": "Feature"
           },
           {
            "geometry": {
             "coordinates": [
              [
               [
                [
                 2.873786487103391,
                 47.237149076152306
                ],
                [
                 2.873786487103391,
                 47.24219744351467
                ],
                [
                 2.877245361773516,
                 47.24219744351467
                ],
                [
                 2.877245361773516,
                 47.237149076152306
                ],
                [
                 2.873786487103391,
                 47.237149076152306
                ]
               ]
              ]
             ],
             "type": "MultiPolygon"
            },
            "id": 84,
            "properties": {
             "area": 20.076156874379443,
             "client_for": null,
             "crop_forei": null,
             "landuse_fo": null,
             "parcel_for": "83",
             "parcel_id": 84
            },
            "type": "Feature"
           },
           {
            "geometry": {
             "coordinates": [
              [
               [
                [
                 2.86212742284847,
                 47.29767308503633
                ],
                [
                 2.86212742284847,
                 47.30316619615436
                ],
                [
                 2.870994614838451,
                 47.30316619615436
                ],
                [
                 2.870994614838451,
                 47.29767308503633
                ],
                [
                 2.86212742284847,
                 47.29767308503633
                ]
               ]
              ]
             ],
             "type": "MultiPolygon"
            },
            "id": 85,
            "properties": {
             "area": 41.93089018689164,
             "client_for": null,
             "crop_forei": null,
             "landuse_fo": null,
             "parcel_for": "84",
             "parcel_id": 85
            },
            "type": "Feature"
           },
           {
            "geometry": {
             "coordinates": [
              [
               [
                [
                 2.833555645387821,
                 47.420500205053955
                ],
                [
                 2.833555645387821,
                 47.42596576370154
                ],
                [
                 2.839077234073288,
                 47.42596576370154
                ],
                [
                 2.839077234073288,
                 47.420500205053955
                ],
                [
                 2.833555645387821,
                 47.420500205053955
                ]
               ]
              ]
             ],
             "type": "MultiPolygon"
            },
            "id": 163,
            "properties": {
             "area": 35.0817535412164,
             "client_for": null,
             "crop_forei": null,
             "landuse_fo": null,
             "parcel_for": "162",
             "parcel_id": 163
            },
            "type": "Feature"
           },
           {
            "geometry": {
             "coordinates": [
              [
               [
                [
                 2.907179632099655,
                 47.412018648735625
                ],
                [
                 2.907179632099655,
                 47.417900282998296
                ],
                [
                 2.912274324250612,
                 47.417900282998296
                ],
                [
                 2.912274324250612,
                 47.412018648735625
                ],
                [
                 2.907179632099655,
                 47.412018648735625
                ]
               ]
              ]
             ],
             "type": "MultiPolygon"
            },
            "id": 164,
            "properties": {
             "area": 38.08958934412633,
             "client_for": null,
             "crop_forei": null,
             "landuse_fo": null,
             "parcel_for": "163",
             "parcel_id": 164
            },
            "type": "Feature"
           },
           {
            "geometry": {
             "coordinates": [
              [
               [
                [
                 2.862990948219139,
                 47.40607339528512
                ],
                [
                 2.862990948219139,
                 47.40766443737838
                ],
                [
                 2.865427427424408,
                 47.40766443737838
                ],
                [
                 2.865427427424408,
                 47.40607339528512
                ],
                [
                 2.862990948219139,
                 47.40607339528512
                ]
               ]
              ]
             ],
             "type": "MultiPolygon"
            },
            "id": 165,
            "properties": {
             "area": 4.257997809637893,
             "client_for": null,
             "crop_forei": null,
             "landuse_fo": null,
             "parcel_for": "164",
             "parcel_id": 165
            },
            "type": "Feature"
           },
           {
            "geometry": {
             "coordinates": [
              [
               [
                [
                 2.862839491403671,
                 47.40902257884583
                ],
                [
                 2.862839491403671,
                 47.40991053263547
                ],
                [
                 2.863904627921114,
                 47.40991053263547
                ],
                [
                 2.863904627921114,
                 47.40902257884583
                ],
                [
                 2.862839491403671,
                 47.40902257884583
                ]
               ]
              ]
             ],
             "type": "MultiPolygon"
            },
            "id": 166,
            "properties": {
             "area": 1.029520750857745,
             "client_for": null,
             "crop_forei": null,
             "landuse_fo": null,
             "parcel_for": "165",
             "parcel_id": 166
            },
            "type": "Feature"
           },
           {
            "geometry": {
             "coordinates": [
              [
               [
                [
                 2.934568108452596,
                 47.25629711474347
                ],
                [
                 2.934568108452596,
                 47.263264259937905
                ],
                [
                 2.941443326865419,
                 47.263264259937905
                ],
                [
                 2.941443326865419,
                 47.25629711474347
                ],
                [
                 2.934568108452596,
                 47.25629711474347
                ]
               ]
              ]
             ],
             "type": "MultiPolygon"
            },
            "id": 86,
            "properties": {
             "area": 47.55252026417499,
             "client_for": null,
             "crop_forei": null,
             "landuse_fo": null,
             "parcel_for": "85",
             "parcel_id": 86
            },
            "type": "Feature"
           },
           {
            "geometry": {
             "coordinates": [
              [
               [
                [
                 3.070229986170011,
                 47.40364326904635
                ],
                [
                 3.070229986170011,
                 47.404740694303044
                ],
                [
                 3.072558935495259,
                 47.404740694303044
                ],
                [
                 3.072558935495259,
                 47.40364326904635
                ],
                [
                 3.070229986170011,
                 47.40364326904635
                ]
               ]
              ]
             ],
             "type": "MultiPolygon"
            },
            "id": 118,
            "properties": {
             "area": 1.781343219055291,
             "client_for": null,
             "crop_forei": null,
             "landuse_fo": null,
             "parcel_for": "117",
             "parcel_id": 118
            },
            "type": "Feature"
           },
           {
            "geometry": {
             "coordinates": [
              [
               [
                [
                 2.803079040227749,
                 47.198970309371724
                ],
                [
                 2.803079040227749,
                 47.20462362906975
                ],
                [
                 2.807173408732896,
                 47.20462362906975
                ],
                [
                 2.807173408732896,
                 47.198970309371724
                ],
                [
                 2.803079040227749,
                 47.198970309371724
                ]
               ]
              ]
             ],
             "type": "MultiPolygon"
            },
            "id": 87,
            "properties": {
             "area": 27.953917386494798,
             "client_for": null,
             "crop_forei": null,
             "landuse_fo": null,
             "parcel_for": "86",
             "parcel_id": 87
            },
            "type": "Feature"
           },
           {
            "geometry": {
             "coordinates": [
              [
               [
                [
                 2.863188658326238,
                 47.271270716073055
                ],
                [
                 2.863188658326238,
                 47.280475225462794
                ],
                [
                 2.874099965306995,
                 47.280475225462794
                ],
                [
                 2.874099965306995,
                 47.271270716073055
                ],
                [
                 2.863188658326238,
                 47.271270716073055
                ]
               ]
              ]
             ],
             "type": "MultiPolygon"
            },
            "id": 88,
            "properties": {
             "area": 94.68836512119059,
             "client_for": null,
             "crop_forei": null,
             "landuse_fo": null,
             "parcel_for": "87",
             "parcel_id": 88
            },
            "type": "Feature"
           },
           {
            "geometry": {
             "coordinates": [
              [
               [
                [
                 3.011965609206944,
                 47.19924933366407
                ],
                [
                 3.011965609206944,
                 47.204237585851
                ],
                [
                 3.022567593240285,
                 47.204237585851
                ],
                [
                 3.022567593240285,
                 47.19924933366407
                ],
                [
                 3.011965609206944,
                 47.19924933366407
                ]
               ]
              ]
             ],
             "type": "MultiPolygon"
            },
            "id": 89,
            "properties": {
             "area": 40.33187876420151,
             "client_for": null,
             "crop_forei": null,
             "landuse_fo": null,
             "parcel_for": "88",
             "parcel_id": 89
            },
            "type": "Feature"
           },
           {
            "geometry": {
             "coordinates": [
              [
               [
                [
                 2.784005827918613,
                 47.229029339899206
                ],
                [
                 2.784005827918613,
                 47.23459244099605
                ],
                [
                 2.789921553946402,
                 47.23459244099605
                ],
                [
                 2.789921553946402,
                 47.229029339899206
                ],
                [
                 2.784005827918613,
                 47.229029339899206
                ]
               ]
              ]
             ],
             "type": "MultiPolygon"
            },
            "id": 90,
            "properties": {
             "area": 37.63793190406245,
             "client_for": null,
             "crop_forei": null,
             "landuse_fo": null,
             "parcel_for": "89",
             "parcel_id": 90
            },
            "type": "Feature"
           },
           {
            "geometry": {
             "coordinates": [
              [
               [
                [
                 2.984572358445278,
                 47.26250980577328
                ],
                [
                 2.984572358445278,
                 47.27067793236293
                ],
                [
                 2.995739008149906,
                 47.27067793236293
                ],
                [
                 2.995739008149906,
                 47.26250980577328
                ],
                [
                 2.984572358445278,
                 47.26250980577328
                ]
               ]
              ]
             ],
             "type": "MultiPolygon"
            },
            "id": 91,
            "properties": {
             "area": 76.26431083861809,
             "client_for": null,
             "crop_forei": null,
             "landuse_fo": null,
             "parcel_for": "90",
             "parcel_id": 91
            },
            "type": "Feature"
           },
           {
            "geometry": {
             "coordinates": [
              [
               [
                [
                 2.772384446818779,
                 47.20625018249292
                ],
                [
                 2.772384446818779,
                 47.209882529969946
                ],
                [
                 2.77837984582067,
                 47.209882529969946
                ],
                [
                 2.77837984582067,
                 47.20625018249292
                ],
                [
                 2.772384446818779,
                 47.20625018249292
                ]
               ]
              ]
             ],
             "type": "MultiPolygon"
            },
            "id": 92,
            "properties": {
             "area": 18.095044958115423,
             "client_for": null,
             "crop_forei": null,
             "landuse_fo": null,
             "parcel_for": "91",
             "parcel_id": 92
            },
            "type": "Feature"
           },
           {
            "geometry": {
             "coordinates": [
              [
               [
                [
                 3.028875148413152,
                 47.240138545913105
                ],
                [
                 3.028875148413152,
                 47.245509054825355
                ],
                [
                 3.042864151110567,
                 47.245509054825355
                ],
                [
                 3.042864151110567,
                 47.240138545913105
                ],
                [
                 3.028875148413152,
                 47.240138545913105
                ]
               ]
              ]
             ],
             "type": "MultiPolygon"
            },
            "id": 93,
            "properties": {
             "area": 56.53278153946152,
             "client_for": null,
             "crop_forei": null,
             "landuse_fo": null,
             "parcel_for": "92",
             "parcel_id": 93
            },
            "type": "Feature"
           },
           {
            "geometry": {
             "coordinates": [
              [
               [
                [
                 2.957264867786548,
                 47.214140532356026
                ],
                [
                 2.957264867786548,
                 47.22002581486291
                ],
                [
                 2.968420269874158,
                 47.22002581486291
                ],
                [
                 2.968420269874158,
                 47.214140532356026
                ],
                [
                 2.957264867786548,
                 47.214140532356026
                ]
               ]
              ]
             ],
             "type": "MultiPolygon"
            },
            "id": 94,
            "properties": {
             "area": 60.52945868600513,
             "client_for": null,
             "crop_forei": null,
             "landuse_fo": null,
             "parcel_for": "93",
             "parcel_id": 94
            },
            "type": "Feature"
           },
           {
            "geometry": {
             "coordinates": [
              [
               [
                [
                 2.956174753932826,
                 47.40516309258615
                ],
                [
                 2.956174753932826,
                 47.4062561224501
                ],
                [
                 2.95744073535773,
                 47.4062561224501
                ],
                [
                 2.95744073535773,
                 47.40516309258615
                ],
                [
                 2.956174753932826,
                 47.40516309258615
                ]
               ]
              ]
             ],
             "type": "MultiPolygon"
            },
            "id": 167,
            "properties": {
             "area": 1.186369077292482,
             "client_for": null,
             "crop_forei": null,
             "landuse_fo": null,
             "parcel_for": "166",
             "parcel_id": 167
            },
            "type": "Feature"
           },
           {
            "geometry": {
             "coordinates": [
              [
               [
                [
                 2.733463641719267,
                 47.34901574186271
                ],
                [
                 2.733463641719267,
                 47.35330033010652
                ],
                [
                 2.741557488522872,
                 47.35330033010652
                ],
                [
                 2.741557488522872,
                 47.34901574186271
                ],
                [
                 2.733463641719267,
                 47.34901574186271
                ]
               ]
              ]
             ],
             "type": "MultiPolygon"
            },
            "id": 98,
            "properties": {
             "area": 32.59387549871392,
             "client_for": null,
             "crop_forei": null,
             "landuse_fo": null,
             "parcel_for": "97",
             "parcel_id": 98
            },
            "type": "Feature"
           },
           {
            "geometry": {
             "coordinates": [
              [
               [
                [
                 2.735252563502666,
                 47.374052944435824
                ],
                [
                 2.735252563502666,
                 47.38195696655787
                ],
                [
                 2.747271831938521,
                 47.38195696655787
                ],
                [
                 2.747271831938521,
                 47.374052944435824
                ],
                [
                 2.735252563502666,
                 47.374052944435824
                ]
               ]
              ]
             ],
             "type": "MultiPolygon"
            },
            "id": 99,
            "properties": {
             "area": 102.71760882461925,
             "client_for": null,
             "crop_forei": null,
             "landuse_fo": null,
             "parcel_for": "98",
             "parcel_id": 99
            },
            "type": "Feature"
           },
           {
            "geometry": {
             "coordinates": [
              [
               [
                [
                 2.729325127916096,
                 47.30712309737245
                ],
                [
                 2.729325127916096,
                 47.312022611431885
                ],
                [
                 2.734389978187914,
                 47.312022611431885
                ],
                [
                 2.734389978187914,
                 47.30712309737245
                ],
                [
                 2.729325127916096,
                 47.30712309737245
                ]
               ]
              ]
             ],
             "type": "MultiPolygon"
            },
            "id": 101,
            "properties": {
             "area": 27.167341871254063,
             "client_for": null,
             "crop_forei": null,
             "landuse_fo": null,
             "parcel_for": "100",
             "parcel_id": 101
            },
            "type": "Feature"
           },
           {
            "geometry": {
             "coordinates": [
              [
               [
                [
                 3.001377943726522,
                 47.44261503990752
                ],
                [
                 3.001377943726522,
                 47.44409748685377
                ],
                [
                 3.00590805866329,
                 47.44409748685377
                ],
                [
                 3.00590805866329,
                 47.44261503990752
                ],
                [
                 3.001377943726522,
                 47.44261503990752
                ]
               ]
              ]
             ],
             "type": "MultiPolygon"
            },
            "id": 119,
            "properties": {
             "area": 6.367240004860834,
             "client_for": null,
             "crop_forei": null,
             "landuse_fo": null,
             "parcel_for": "118",
             "parcel_id": 119
            },
            "type": "Feature"
           },
           {
            "geometry": {
             "coordinates": [
              [
               [
                [
                 2.950380722633548,
                 47.40927919172726
                ],
                [
                 2.950380722633548,
                 47.412365363489386
                ],
                [
                 2.952093504938266,
                 47.412365363489386
                ],
                [
                 2.952093504938266,
                 47.40927919172726
                ],
                [
                 2.950380722633548,
                 47.40927919172726
                ]
               ]
              ]
             ],
             "type": "MultiPolygon"
            },
            "id": 168,
            "properties": {
             "area": 4.036062355992742,
             "client_for": null,
             "crop_forei": null,
             "landuse_fo": null,
             "parcel_for": "167",
             "parcel_id": 168
            },
            "type": "Feature"
           },
           {
            "geometry": {
             "coordinates": [
              [
               [
                [
                 2.771418236856548,
                 47.25678915491676
                ],
                [
                 2.771418236856548,
                 47.26386361109022
                ],
                [
                 2.776254572211287,
                 47.26386361109022
                ],
                [
                 2.776254572211287,
                 47.25678915491676
                ],
                [
                 2.771418236856548,
                 47.25678915491676
                ]
               ]
              ]
             ],
             "type": "MultiPolygon"
            },
            "id": 102,
            "properties": {
             "area": 37.76673595076015,
             "client_for": null,
             "crop_forei": null,
             "landuse_fo": null,
             "parcel_for": "101",
             "parcel_id": 102
            },
            "type": "Feature"
           },
           {
            "geometry": {
             "coordinates": [
              [
               [
                [
                 3.151682108869398,
                 47.32513276711267
                ],
                [
                 3.151682108869398,
                 47.326896996612426
                ],
                [
                 3.154063440773693,
                 47.326896996612426
                ],
                [
                 3.154063440773693,
                 47.32513276711267
                ],
                [
                 3.151682108869398,
                 47.32513276711267
                ]
               ]
              ]
             ],
             "type": "MultiPolygon"
            },
            "id": 123,
            "properties": {
             "area": 1.621595160856023,
             "client_for": null,
             "crop_forei": null,
             "landuse_fo": null,
             "parcel_for": "122",
             "parcel_id": 123
            },
            "type": "Feature"
           },
           {
            "geometry": {
             "coordinates": [
              [
               [
                [
                 2.806754116269264,
                 47.26774653984299
                ],
                [
                 2.806754116269264,
                 47.275246876263346
                ],
                [
                 2.81391542328128,
                 47.275246876263346
                ],
                [
                 2.81391542328128,
                 47.26774653984299
                ],
                [
                 2.806754116269264,
                 47.26774653984299
                ]
               ]
              ]
             ],
             "type": "MultiPolygon"
            },
            "id": 103,
            "properties": {
             "area": 57.51134170521816,
             "client_for": null,
             "crop_forei": null,
             "landuse_fo": null,
             "parcel_for": "102",
             "parcel_id": 103
            },
            "type": "Feature"
           },
           {
            "geometry": {
             "coordinates": [
              [
               [
                [
                 2.724343190334141,
                 47.2454886013345
                ],
                [
                 2.724343190334141,
                 47.24788829072783
                ],
                [
                 2.727028781786838,
                 47.24788829072783
                ],
                [
                 2.727028781786838,
                 47.2454886013345
                ],
                [
                 2.724343190334141,
                 47.2454886013345
                ]
               ]
              ]
             ],
             "type": "MultiPolygon"
            },
            "id": 104,
            "properties": {
             "area": 6.010400486633298,
             "client_for": null,
             "crop_forei": null,
             "landuse_fo": null,
             "parcel_for": "103",
             "parcel_id": 104
            },
            "type": "Feature"
           },
           {
            "geometry": {
             "coordinates": [
              [
               [
                [
                 2.729817736791884,
                 47.33227771574472
                ],
                [
                 2.729817736791884,
                 47.33679991452608
                ],
                [
                 2.737450960164832,
                 47.33679991452608
                ],
                [
                 2.737450960164832,
                 47.33227771574472
                ],
                [
                 2.729817736791884,
                 47.33227771574472
                ]
               ]
              ]
             ],
             "type": "MultiPolygon"
            },
            "id": 105,
            "properties": {
             "area": 37.7284646142562,
             "client_for": null,
             "crop_forei": null,
             "landuse_fo": null,
             "parcel_for": "104",
             "parcel_id": 105
            },
            "type": "Feature"
           },
           {
            "geometry": {
             "coordinates": [
              [
               [
                [
                 2.750243722580838,
                 47.3630965824386
                ],
                [
                 2.750243722580838,
                 47.366782087539804
                ],
                [
                 2.759739310482429,
                 47.366782087539804
                ],
                [
                 2.759739310482429,
                 47.3630965824386
                ],
                [
                 2.750243722580838,
                 47.3630965824386
                ]
               ]
              ]
             ],
             "type": "MultiPolygon"
            },
            "id": 106,
            "properties": {
             "area": 44.220835995719405,
             "client_for": null,
             "crop_forei": null,
             "landuse_fo": null,
             "parcel_for": "105",
             "parcel_id": 106
            },
            "type": "Feature"
           },
           {
            "geometry": {
             "coordinates": [
              [
               [
                [
                 2.7519504423084,
                 47.39384837857732
                ],
                [
                 2.7519504423084,
                 47.39633647059237
                ],
                [
                 2.755116964841732,
                 47.39633647059237
                ],
                [
                 2.755116964841732,
                 47.39384837857732
                ],
                [
                 2.7519504423084,
                 47.39384837857732
                ]
               ]
              ]
             ],
             "type": "MultiPolygon"
            },
            "id": 107,
            "properties": {
             "area": 13.05258353849254,
             "client_for": null,
             "crop_forei": null,
             "landuse_fo": null,
             "parcel_for": "106",
             "parcel_id": 107
            },
            "type": "Feature"
           },
           {
            "geometry": {
             "coordinates": [
              [
               [
                [
                 3.147471794454375,
                 47.300400332810575
                ],
                [
                 3.147471794454375,
                 47.30122669966069
                ],
                [
                 3.148717786120278,
                 47.30122669966069
                ],
                [
                 3.148717786120278,
                 47.300400332810575
                ],
                [
                 3.147471794454375,
                 47.300400332810575
                ]
               ]
              ]
             ],
             "type": "MultiPolygon"
            },
            "id": 124,
            "properties": {
             "area": 1.17710356015788,
             "client_for": null,
             "crop_forei": null,
             "landuse_fo": null,
             "parcel_for": "123",
             "parcel_id": 124
            },
            "type": "Feature"
           },
           {
            "geometry": {
             "coordinates": [
              [
               [
                [
                 2.825441306025208,
                 47.38567125946082
                ],
                [
                 2.825441306025208,
                 47.389979292058236
                ],
                [
                 2.833648602038515,
                 47.389979292058236
                ],
                [
                 2.833648602038515,
                 47.38567125946082
                ],
                [
                 2.825441306025208,
                 47.38567125946082
                ]
               ]
              ]
             ],
             "type": "MultiPolygon"
            },
            "id": 108,
            "properties": {
             "area": 37.54645062148106,
             "client_for": null,
             "crop_forei": null,
             "landuse_fo": null,
             "parcel_for": "107",
             "parcel_id": 108
            },
            "type": "Feature"
           },
           {
            "geometry": {
             "coordinates": [
              [
               [
                [
                 2.819967521222108,
                 47.37445346251602
                ],
                [
                 2.819967521222108,
                 47.381647611816156
                ],
                [
                 2.831207893209685,
                 47.381647611816156
                ],
                [
                 2.831207893209685,
                 47.37445346251602
                ],
                [
                 2.819967521222108,
                 47.37445346251602
                ]
               ]
              ]
             ],
             "type": "MultiPolygon"
            },
            "id": 109,
            "properties": {
             "area": 52.78684412528201,
             "client_for": null,
             "crop_forei": null,
             "landuse_fo": null,
             "parcel_for": "108",
             "parcel_id": 109
            },
            "type": "Feature"
           },
           {
            "geometry": {
             "coordinates": [
              [
               [
                [
                 2.747571536375159,
                 47.35939595262387
                ],
                [
                 2.747571536375159,
                 47.36271688142048
                ],
                [
                 2.749784670495584,
                 47.36271688142048
                ],
                [
                 2.749784670495584,
                 47.35939595262387
                ],
                [
                 2.747571536375159,
                 47.35939595262387
                ]
               ]
              ]
             ],
             "type": "MultiPolygon"
            },
            "id": 110,
            "properties": {
             "area": 9.772726214309104,
             "client_for": null,
             "crop_forei": null,
             "landuse_fo": null,
             "parcel_for": "109",
             "parcel_id": 110
            },
            "type": "Feature"
           },
           {
            "geometry": {
             "coordinates": [
              [
               [
                [
                 2.832384397501276,
                 47.332108022859664
                ],
                [
                 2.832384397501276,
                 47.33805915433523
                ],
                [
                 2.836286635665558,
                 47.33805915433523
                ],
                [
                 2.836286635665558,
                 47.332108022859664
                ],
                [
                 2.832384397501276,
                 47.332108022859664
                ]
               ]
              ]
             ],
             "type": "MultiPolygon"
            },
            "id": 111,
            "properties": {
             "area": 24.640922152220995,
             "client_for": null,
             "crop_forei": null,
             "landuse_fo": null,
             "parcel_for": "110",
             "parcel_id": 111
            },
            "type": "Feature"
           },
           {
            "geometry": {
             "coordinates": [
              [
               [
                [
                 2.748432234407832,
                 47.38874368806851
                ],
                [
                 2.748432234407832,
                 47.391386921597885
                ],
                [
                 2.753272231888566,
                 47.391386921597885
                ],
                [
                 2.753272231888566,
                 47.38874368806851
                ],
                [
                 2.748432234407832,
                 47.38874368806851
                ]
               ]
              ]
             ],
             "type": "MultiPolygon"
            },
            "id": 112,
            "properties": {
             "area": 14.196744197918886,
             "client_for": null,
             "crop_forei": null,
             "landuse_fo": null,
             "parcel_for": "111",
             "parcel_id": 112
            },
            "type": "Feature"
           },
           {
            "geometry": {
             "coordinates": [
              [
               [
                [
                 3.127553262110872,
                 47.33490885809798
                ],
                [
                 3.127553262110872,
                 47.33823516211391
                ],
                [
                 3.133428970197641,
                 47.33823516211391
                ],
                [
                 3.133428970197641,
                 47.33490885809798
                ],
                [
                 3.127553262110872,
                 47.33490885809798
                ]
               ]
              ]
             ],
             "type": "MultiPolygon"
            },
            "id": 127,
            "properties": {
             "area": 15.761139326430087,
             "client_for": null,
             "crop_forei": null,
             "landuse_fo": null,
             "parcel_for": "126",
             "parcel_id": 127
            },
            "type": "Feature"
           },
           {
            "geometry": {
             "coordinates": [
              [
               [
                [
                 2.826614749864837,
                 47.32131871207535
                ],
                [
                 2.826614749864837,
                 47.32319514469168
                ],
                [
                 2.833566452230833,
                 47.32319514469168
                ],
                [
                 2.833566452230833,
                 47.32131871207535
                ],
                [
                 2.826614749864837,
                 47.32131871207535
                ]
               ]
              ]
             ],
             "type": "MultiPolygon"
            },
            "id": 113,
            "properties": {
             "area": 15.875590862332375,
             "client_for": null,
             "crop_forei": null,
             "landuse_fo": null,
             "parcel_for": "112",
             "parcel_id": 113
            },
            "type": "Feature"
           },
           {
            "geometry": {
             "coordinates": [
              [
               [
                [
                 2.792414527895316,
                 47.35877026945458
                ],
                [
                 2.792414527895316,
                 47.36758093082368
                ],
                [
                 2.799137218114756,
                 47.36758093082368
                ],
                [
                 2.799137218114756,
                 47.35877026945458
                ],
                [
                 2.792414527895316,
                 47.35877026945458
                ]
               ]
              ]
             ],
             "type": "MultiPolygon"
            },
            "id": 114,
            "properties": {
             "area": 72.69370763556495,
             "client_for": null,
             "crop_forei": null,
             "landuse_fo": null,
             "parcel_for": "113",
             "parcel_id": 114
            },
            "type": "Feature"
           },
           {
            "geometry": {
             "coordinates": [
              [
               [
                [
                 2.738333624191642,
                 47.391152227648874
                ],
                [
                 2.738333624191642,
                 47.39660736526853
                ],
                [
                 2.747883859648264,
                 47.39660736526853
                ],
                [
                 2.747883859648264,
                 47.391152227648874
                ],
                [
                 2.738333624191642,
                 47.391152227648874
                ]
               ]
              ]
             ],
             "type": "MultiPolygon"
            },
            "id": 115,
            "properties": {
             "area": 36.67697321382309,
             "client_for": null,
             "crop_forei": null,
             "landuse_fo": null,
             "parcel_for": "114",
             "parcel_id": 115
            },
            "type": "Feature"
           },
           {
            "geometry": {
             "coordinates": [
              [
               [
                [
                 3.109534193229898,
                 47.33082205094258
                ],
                [
                 3.109534193229898,
                 47.3348971294571
                ],
                [
                 3.115541533305365,
                 47.3348971294571
                ],
                [
                 3.115541533305365,
                 47.33082205094258
                ],
                [
                 3.109534193229898,
                 47.33082205094258
                ]
               ]
              ]
             ],
             "type": "MultiPolygon"
            },
            "id": 128,
            "properties": {
             "area": 9.857932796607013,
             "client_for": null,
             "crop_forei": null,
             "landuse_fo": null,
             "parcel_for": "127",
             "parcel_id": 128
            },
            "type": "Feature"
           },
           {
            "geometry": {
             "coordinates": [
              [
               [
                [
                 3.155375715739704,
                 47.31751100518833
                ],
                [
                 3.155375715739704,
                 47.321390658312865
                ],
                [
                 3.157372494762074,
                 47.321390658312865
                ],
                [
                 3.157372494762074,
                 47.31751100518833
                ],
                [
                 3.155375715739704,
                 47.31751100518833
                ]
               ]
              ]
             ],
             "type": "MultiPolygon"
            },
            "id": 129,
            "properties": {
             "area": 3.157563164316413,
             "client_for": null,
             "crop_forei": null,
             "landuse_fo": null,
             "parcel_for": "128",
             "parcel_id": 129
            },
            "type": "Feature"
           },
           {
            "geometry": {
             "coordinates": [
              [
               [
                [
                 2.857581494068335,
                 47.42790934075539
                ],
                [
                 2.857581494068335,
                 47.43189502195692
                ],
                [
                 2.860458001153637,
                 47.43189502195692
                ],
                [
                 2.860458001153637,
                 47.42790934075539
                ],
                [
                 2.857581494068335,
                 47.42790934075539
                ]
               ]
              ]
             ],
             "type": "MultiPolygon"
            },
            "id": 116,
            "properties": {
             "area": 9.273155132139093,
             "client_for": null,
             "crop_forei": null,
             "landuse_fo": null,
             "parcel_for": "115",
             "parcel_id": 116
            },
            "type": "Feature"
           },
           {
            "geometry": {
             "coordinates": [
              [
               [
                [
                 2.870657565514693,
                 47.43796134986352
                ],
                [
                 2.870657565514693,
                 47.44203915630275
                ],
                [
                 2.880441287828107,
                 47.44203915630275
                ],
                [
                 2.880441287828107,
                 47.43796134986352
                ],
                [
                 2.870657565514693,
                 47.43796134986352
                ]
               ]
              ]
             ],
             "type": "MultiPolygon"
            },
            "id": 117,
            "properties": {
             "area": 46.48623395229056,
             "client_for": null,
             "crop_forei": null,
             "landuse_fo": null,
             "parcel_for": "116",
             "parcel_id": 117
            },
            "type": "Feature"
           },
           {
            "geometry": {
             "coordinates": [
              [
               [
                [
                 3.009771140455441,
                 47.44341736320472
                ],
                [
                 3.009771140455441,
                 47.4509683427362
                ],
                [
                 3.011228055159598,
                 47.4509683427362
                ],
                [
                 3.011228055159598,
                 47.44341736320472
                ],
                [
                 3.009771140455441,
                 47.44341736320472
                ]
               ]
              ]
             ],
             "type": "MultiPolygon"
            },
            "id": 120,
            "properties": {
             "area": 4.497997174111009,
             "client_for": null,
             "crop_forei": null,
             "landuse_fo": null,
             "parcel_for": "119",
             "parcel_id": 120
            },
            "type": "Feature"
           },
           {
            "geometry": {
             "coordinates": [
              [
               [
                [
                 2.990048923372548,
                 47.354353756916986
                ],
                [
                 2.990048923372548,
                 47.35528773581454
                ],
                [
                 2.993085103583107,
                 47.35528773581454
                ],
                [
                 2.993085103583107,
                 47.354353756916986
                ],
                [
                 2.990048923372548,
                 47.354353756916986
                ]
               ]
              ]
             ],
             "type": "MultiPolygon"
            },
            "id": 121,
            "properties": {
             "area": 1.612785019058728,
             "client_for": null,
             "crop_forei": null,
             "landuse_fo": null,
             "parcel_for": "120",
             "parcel_id": 121
            },
            "type": "Feature"
           },
           {
            "geometry": {
             "coordinates": [
              [
               [
                [
                 2.930222543980563,
                 47.45797027593764
                ],
                [
                 2.930222543980563,
                 47.45989260647934
                ],
                [
                 2.933071286907217,
                 47.45989260647934
                ],
                [
                 2.933071286907217,
                 47.45797027593764
                ],
                [
                 2.930222543980563,
                 47.45797027593764
                ]
               ]
              ]
             ],
             "type": "MultiPolygon"
            },
            "id": 122,
            "properties": {
             "area": 1.381676553252666,
             "client_for": null,
             "crop_forei": null,
             "landuse_fo": null,
             "parcel_for": "121",
             "parcel_id": 122
            },
            "type": "Feature"
           },
           {
            "geometry": {
             "coordinates": [
              [
               [
                [
                 3.035267473910422,
                 47.47511810709957
                ],
                [
                 3.035267473910422,
                 47.47758409208125
                ],
                [
                 3.040968087455201,
                 47.47758409208125
                ],
                [
                 3.040968087455201,
                 47.47511810709957
                ],
                [
                 3.035267473910422,
                 47.47511810709957
                ]
               ]
              ]
             ],
             "type": "MultiPolygon"
            },
            "id": 125,
            "properties": {
             "area": 6.407453314931408,
             "client_for": null,
             "crop_forei": null,
             "landuse_fo": null,
             "parcel_for": "124",
             "parcel_id": 125
            },
            "type": "Feature"
           },
           {
            "geometry": {
             "coordinates": [
              [
               [
                [
                 2.925013226493899,
                 47.43493201343571
                ],
                [
                 2.925013226493899,
                 47.441129716686646
                ],
                [
                 2.927946744287323,
                 47.441129716686646
                ],
                [
                 2.927946744287323,
                 47.43493201343571
                ],
                [
                 2.925013226493899,
                 47.43493201343571
                ]
               ]
              ]
             ],
             "type": "MultiPolygon"
            },
            "id": 130,
            "properties": {
             "area": 4.90002254909696,
             "client_for": null,
             "crop_forei": null,
             "landuse_fo": null,
             "parcel_for": "129",
             "parcel_id": 130
            },
            "type": "Feature"
           },
           {
            "geometry": {
             "coordinates": [
              [
               [
                [
                 3.08027501577485,
                 47.39965460951266
                ],
                [
                 3.08027501577485,
                 47.40379115833777
                ],
                [
                 3.090218829133883,
                 47.40379115833777
                ],
                [
                 3.090218829133883,
                 47.39965460951266
                ],
                [
                 3.08027501577485,
                 47.39965460951266
                ]
               ]
              ]
             ],
             "type": "MultiPolygon"
            },
            "id": 126,
            "properties": {
             "area": 14.299673309578488,
             "client_for": null,
             "crop_forei": null,
             "landuse_fo": null,
             "parcel_for": "125",
             "parcel_id": 126
            },
            "type": "Feature"
           },
           {
            "geometry": {
             "coordinates": [
              [
               [
                [
                 2.839643921300578,
                 47.313015352838725
                ],
                [
                 2.839643921300578,
                 47.313982262969255
                ],
                [
                 2.84101665188057,
                 47.313982262969255
                ],
                [
                 2.84101665188057,
                 47.313015352838725
                ],
                [
                 2.839643921300578,
                 47.313015352838725
                ]
               ]
              ]
             ],
             "type": "MultiPolygon"
            },
            "id": 139,
            "properties": {
             "area": 1.725370762718303,
             "client_for": null,
             "crop_forei": null,
             "landuse_fo": null,
             "parcel_for": "138",
             "parcel_id": 139
            },
            "type": "Feature"
           },
           {
            "geometry": {
             "coordinates": [
              [
               [
                [
                 2.908414205349053,
                 47.27132029174676
                ],
                [
                 2.908414205349053,
                 47.27358587801902
                ],
                [
                 2.914137153401296,
                 47.27358587801902
                ],
                [
                 2.914137153401296,
                 47.27132029174676
                ],
                [
                 2.908414205349053,
                 47.27132029174676
                ]
               ]
              ]
             ],
             "type": "MultiPolygon"
            },
            "id": 140,
            "properties": {
             "area": 11.545107630500246,
             "client_for": null,
             "crop_forei": null,
             "landuse_fo": null,
             "parcel_for": "139",
             "parcel_id": 140
            },
            "type": "Feature"
           },
           {
            "geometry": {
             "coordinates": [
              [
               [
                [
                 2.906514101400987,
                 47.270456534133274
                ],
                [
                 2.906514101400987,
                 47.272715734576124
                ],
                [
                 2.91003629549557,
                 47.272715734576124
                ],
                [
                 2.91003629549557,
                 47.270456534133274
                ],
                [
                 2.906514101400987,
                 47.270456534133274
                ]
               ]
              ]
             ],
             "type": "MultiPolygon"
            },
            "id": 141,
            "properties": {
             "area": 10.35260415008381,
             "client_for": null,
             "crop_forei": null,
             "landuse_fo": null,
             "parcel_for": "140",
             "parcel_id": 141
            },
            "type": "Feature"
           },
           {
            "geometry": {
             "coordinates": [
              [
               [
                [
                 2.913764581982262,
                 47.274823350381176
                ],
                [
                 2.913764581982262,
                 47.277285084563914
                ],
                [
                 2.916942736992843,
                 47.277285084563914
                ],
                [
                 2.916942736992843,
                 47.274823350381176
                ],
                [
                 2.913764581982262,
                 47.274823350381176
                ]
               ]
              ]
             ],
             "type": "MultiPolygon"
            },
            "id": 142,
            "properties": {
             "area": 11.749846638835823,
             "client_for": null,
             "crop_forei": null,
             "landuse_fo": null,
             "parcel_for": "141",
             "parcel_id": 142
            },
            "type": "Feature"
           },
           {
            "geometry": {
             "coordinates": [
              [
               [
                [
                 2.913866650705726,
                 47.278372946938106
                ],
                [
                 2.913866650705726,
                 47.278737051936105
                ],
                [
                 2.916800303370455,
                 47.278737051936105
                ],
                [
                 2.916800303370455,
                 47.278372946938106
                ],
                [
                 2.913866650705726,
                 47.278372946938106
                ]
               ]
              ]
             ],
             "type": "MultiPolygon"
            },
            "id": 143,
            "properties": {
             "area": 1.452971266162695,
             "client_for": null,
             "crop_forei": null,
             "landuse_fo": null,
             "parcel_for": "142",
             "parcel_id": 143
            },
            "type": "Feature"
           },
           {
            "geometry": {
             "coordinates": [
              [
               [
                [
                 2.822457938012595,
                 47.19921768501933
                ],
                [
                 2.822457938012595,
                 47.20110001511266
                ],
                [
                 2.824121969267849,
                 47.20110001511266
                ],
                [
                 2.824121969267849,
                 47.19921768501933
                ],
                [
                 2.822457938012595,
                 47.19921768501933
                ]
               ]
              ]
             ],
             "type": "MultiPolygon"
            },
            "id": 131,
            "properties": {
             "area": 2.248880736331411,
             "client_for": null,
             "crop_forei": null,
             "landuse_fo": null,
             "parcel_for": "130",
             "parcel_id": 131
            },
            "type": "Feature"
           },
           {
            "geometry": {
             "coordinates": [
              [
               [
                [
                 2.913936667239618,
                 47.27144609813769
                ],
                [
                 2.913936667239618,
                 47.275042829456986
                ],
                [
                 2.91712297223819,
                 47.275042829456986
                ],
                [
                 2.91712297223819,
                 47.27144609813769
                ],
                [
                 2.913936667239618,
                 47.27144609813769
                ]
               ]
              ]
             ],
             "type": "MultiPolygon"
            },
            "id": 144,
            "properties": {
             "area": 9.760836210288877,
             "client_for": null,
             "crop_forei": null,
             "landuse_fo": null,
             "parcel_for": "143",
             "parcel_id": 144
            },
            "type": "Feature"
           },
           {
            "geometry": {
             "coordinates": [
              [
               [
                [
                 2.917199523780783,
                 47.27404596538199
                ],
                [
                 2.917199523780783,
                 47.275077459369
                ],
                [
                 2.91954382705122,
                 47.275077459369
                ],
                [
                 2.91954382705122,
                 47.27404596538199
                ],
                [
                 2.917199523780783,
                 47.27404596538199
                ]
               ]
              ]
             ],
             "type": "MultiPolygon"
            },
            "id": 145,
            "properties": {
             "area": 2.364443585955664,
             "client_for": null,
             "crop_forei": null,
             "landuse_fo": null,
             "parcel_for": "144",
             "parcel_id": 145
            },
            "type": "Feature"
           },
           {
            "geometry": {
             "coordinates": [
              [
               [
                [
                 2.909695379618722,
                 47.27037052064091
                ],
                [
                 2.909695379618722,
                 47.27210025862402
                ],
                [
                 2.914145281858088,
                 47.27210025862402
                ],
                [
                 2.914145281858088,
                 47.27037052064091
                ],
                [
                 2.909695379618722,
                 47.27037052064091
                ]
               ]
              ]
             ],
             "type": "MultiPolygon"
            },
            "id": 146,
            "properties": {
             "area": 7.316799129309594,
             "client_for": null,
             "crop_forei": null,
             "landuse_fo": null,
             "parcel_for": "145",
             "parcel_id": 146
            },
            "type": "Feature"
           },
           {
            "geometry": {
             "coordinates": [
              [
               [
                [
                 2.909182601747073,
                 47.27725869748058
                ],
                [
                 2.909182601747073,
                 47.27928250669074
                ],
                [
                 2.911943396089806,
                 47.27928250669074
                ],
                [
                 2.911943396089806,
                 47.27725869748058
                ],
                [
                 2.909182601747073,
                 47.27725869748058
                ]
               ]
              ]
             ],
             "type": "MultiPolygon"
            },
            "id": 147,
            "properties": {
             "area": 5.721971497914114,
             "client_for": null,
             "crop_forei": null,
             "landuse_fo": null,
             "parcel_for": "146",
             "parcel_id": 147
            },
            "type": "Feature"
           },
           {
            "geometry": {
             "coordinates": [
              [
               [
                [
                 2.872666898576586,
                 47.21686247147725
                ],
                [
                 2.872666898576586,
                 47.2204539700473
                ],
                [
                 2.90044029211213,
                 47.2204539700473
                ],
                [
                 2.90044029211213,
                 47.21686247147725
                ],
                [
                 2.872666898576586,
                 47.21686247147725
                ]
               ]
              ]
             ],
             "type": "MultiPolygon"
            },
            "id": 148,
            "properties": {
             "area": 16.120158264313204,
             "client_for": null,
             "crop_forei": null,
             "landuse_fo": null,
             "parcel_for": "147",
             "parcel_id": 148
            },
            "type": "Feature"
           },
           {
            "geometry": {
             "coordinates": [
              [
               [
                [
                 2.876604775778621,
                 47.220806733326526
                ],
                [
                 2.876604775778621,
                 47.22249979668396
                ],
                [
                 2.882183983904765,
                 47.22249979668396
                ],
                [
                 2.882183983904765,
                 47.220806733326526
                ],
                [
                 2.876604775778621,
                 47.220806733326526
                ]
               ]
              ]
             ],
             "type": "MultiPolygon"
            },
            "id": 149,
            "properties": {
             "area": 4.58419057420056,
             "client_for": null,
             "crop_forei": null,
             "landuse_fo": null,
             "parcel_for": "148",
             "parcel_id": 149
            },
            "type": "Feature"
           },
           {
            "geometry": {
             "coordinates": [
              [
               [
                [
                 2.874594886217992,
                 47.217855273450546
                ],
                [
                 2.874594886217992,
                 47.21857914198312
                ],
                [
                 2.875465557123188,
                 47.21857914198312
                ],
                [
                 2.875465557123188,
                 47.217855273450546
                ],
                [
                 2.874594886217992,
                 47.217855273450546
                ]
               ]
              ]
             ],
             "type": "MultiPolygon"
            },
            "id": 150,
            "properties": {
             "area": 0.634013944399279,
             "client_for": null,
             "crop_forei": null,
             "landuse_fo": null,
             "parcel_for": "149",
             "parcel_id": 150
            },
            "type": "Feature"
           },
           {
            "geometry": {
             "coordinates": [
              [
               [
                [
                 2.783068114786661,
                 47.22545456924519
                ],
                [
                 2.783068114786661,
                 47.22648165529793
                ],
                [
                 2.784621882413206,
                 47.22648165529793
                ],
                [
                 2.784621882413206,
                 47.22545456924519
                ],
                [
                 2.783068114786661,
                 47.22545456924519
                ]
               ]
              ]
             ],
             "type": "MultiPolygon"
            },
            "id": 132,
            "properties": {
             "area": 1.027809414385881,
             "client_for": null,
             "crop_forei": null,
             "landuse_fo": null,
             "parcel_for": "131",
             "parcel_id": 132
            },
            "type": "Feature"
           },
           {
            "geometry": {
             "coordinates": [
              [
               [
                [
                 2.742270649418705,
                 47.19772191930048
                ],
                [
                 2.742270649418705,
                 47.199919007230584
                ],
                [
                 2.746512078205591,
                 47.199919007230584
                ],
                [
                 2.746512078205591,
                 47.19772191930048
                ],
                [
                 2.742270649418705,
                 47.19772191930048
                ]
               ]
              ]
             ],
             "type": "MultiPolygon"
            },
            "id": 133,
            "properties": {
             "area": 4.302878408312757,
             "client_for": null,
             "crop_forei": null,
             "landuse_fo": null,
             "parcel_for": "132",
             "parcel_id": 133
            },
            "type": "Feature"
           },
           {
            "geometry": {
             "coordinates": [
              [
               [
                [
                 2.805347264532133,
                 47.24094582401411
                ],
                [
                 2.805347264532133,
                 47.242374063056076
                ],
                [
                 2.809022922919341,
                 47.242374063056076
                ],
                [
                 2.809022922919341,
                 47.24094582401411
                ],
                [
                 2.805347264532133,
                 47.24094582401411
                ]
               ]
              ]
             ],
             "type": "MultiPolygon"
            },
            "id": 134,
            "properties": {
             "area": 3.063013422240594,
             "client_for": null,
             "crop_forei": null,
             "landuse_fo": null,
             "parcel_for": "133",
             "parcel_id": 134
            },
            "type": "Feature"
           },
           {
            "geometry": {
             "coordinates": [
              [
               [
                [
                 2.883731980880739,
                 47.20930884824961
                ],
                [
                 2.883731980880739,
                 47.21056486291317
                ],
                [
                 2.884753680863658,
                 47.21056486291317
                ],
                [
                 2.884753680863658,
                 47.20930884824961
                ],
                [
                 2.883731980880739,
                 47.20930884824961
                ]
               ]
              ]
             ],
             "type": "MultiPolygon"
            },
            "id": 135,
            "properties": {
             "area": 1.230251835964192,
             "client_for": null,
             "crop_forei": null,
             "landuse_fo": null,
             "parcel_for": "134",
             "parcel_id": 135
            },
            "type": "Feature"
           },
           {
            "geometry": {
             "coordinates": [
              [
               [
                [
                 2.845228932499188,
                 47.21096286239676
                ],
                [
                 2.845228932499188,
                 47.213640034981914
                ],
                [
                 2.849874705686549,
                 47.213640034981914
                ],
                [
                 2.849874705686549,
                 47.21096286239676
                ],
                [
                 2.845228932499188,
                 47.21096286239676
                ]
               ]
              ]
             ],
             "type": "MultiPolygon"
            },
            "id": 151,
            "properties": {
             "area": 17.209939295416785,
             "client_for": null,
             "crop_forei": null,
             "landuse_fo": null,
             "parcel_for": "150",
             "parcel_id": 151
            },
            "type": "Feature"
           },
           {
            "geometry": {
             "coordinates": [
              [
               [
                [
                 2.785333817955097,
                 47.272410638883194
                ],
                [
                 2.785333817955097,
                 47.27469418190433
                ],
                [
                 2.788995426502633,
                 47.27469418190433
                ],
                [
                 2.788995426502633,
                 47.272410638883194
                ],
                [
                 2.785333817955097,
                 47.272410638883194
                ]
               ]
              ]
             ],
             "type": "MultiPolygon"
            },
            "id": 136,
            "properties": {
             "area": 6.226908145353878,
             "client_for": null,
             "crop_forei": null,
             "landuse_fo": null,
             "parcel_for": "135",
             "parcel_id": 136
            },
            "type": "Feature"
           },
           {
            "geometry": {
             "coordinates": [
              [
               [
                [
                 2.836622407736268,
                 47.35214097694573
                ],
                [
                 2.836622407736268,
                 47.353359958548005
                ],
                [
                 2.83825535627656,
                 47.353359958548005
                ],
                [
                 2.83825535627656,
                 47.35214097694573
                ],
                [
                 2.836622407736268,
                 47.35214097694573
                ]
               ]
              ]
             ],
             "type": "MultiPolygon"
            },
            "id": 137,
            "properties": {
             "area": 1.986757565715301,
             "client_for": null,
             "crop_forei": null,
             "landuse_fo": null,
             "parcel_for": "136",
             "parcel_id": 137
            },
            "type": "Feature"
           },
           {
            "geometry": {
             "coordinates": [
              [
               [
                [
                 2.740676433677452,
                 47.25595498188482
                ],
                [
                 2.740676433677452,
                 47.26143114421745
                ],
                [
                 2.749973529492505,
                 47.26143114421745
                ],
                [
                 2.749973529492505,
                 47.25595498188482
                ],
                [
                 2.740676433677452,
                 47.25595498188482
                ]
               ]
              ]
             ],
             "type": "MultiPolygon"
            },
            "id": 138,
            "properties": {
             "area": 14.105625094008001,
             "client_for": null,
             "crop_forei": null,
             "landuse_fo": null,
             "parcel_for": "137",
             "parcel_id": 138
            },
            "type": "Feature"
           },
           {
            "geometry": {
             "coordinates": [
              [
               [
                [
                 2.950376189483095,
                 47.402050393326306
                ],
                [
                 2.950376189483095,
                 47.40521874685084
                ],
                [
                 2.951826554947826,
                 47.40521874685084
                ],
                [
                 2.951826554947826,
                 47.402050393326306
                ],
                [
                 2.950376189483095,
                 47.402050393326306
                ]
               ]
              ]
             ],
             "type": "MultiPolygon"
            },
            "id": 170,
            "properties": {
             "area": 1.844142381332031,
             "client_for": null,
             "crop_forei": null,
             "landuse_fo": null,
             "parcel_for": "169",
             "parcel_id": 170
            },
            "type": "Feature"
           }
          ],
          "name": "parcel_n",
          "type": "FeatureCollection"
         },
         "hovertemplate": "parcel ID=%{location}<extra></extra>",
         "locations": [
          1,
          2,
          3,
          4,
          5,
          6,
          7,
          8,
          9,
          10,
          11,
          12,
          13,
          14,
          15,
          16,
          17,
          18,
          19,
          20,
          21,
          22,
          23,
          24,
          25,
          26,
          27,
          28,
          29,
          30,
          31,
          32,
          33,
          34,
          35,
          36,
          37,
          38,
          39,
          40,
          41,
          42,
          43,
          44,
          45,
          46,
          47,
          48,
          49,
          50,
          51,
          52,
          53,
          54,
          55,
          56,
          57,
          58,
          59,
          60,
          61,
          62,
          63,
          64,
          65,
          66,
          67,
          68,
          69,
          70,
          71,
          72,
          73,
          74,
          75,
          76,
          77,
          78,
          79,
          80,
          81,
          82,
          83,
          84,
          85,
          86,
          87,
          88,
          89,
          90,
          91,
          92,
          93,
          94,
          95,
          96,
          97,
          98,
          99,
          100,
          101,
          102,
          103,
          104,
          105,
          106,
          107,
          108,
          109,
          110,
          111,
          112,
          113,
          114,
          115,
          116,
          117,
          118,
          119,
          120,
          121,
          122,
          123,
          124,
          125,
          126,
          127,
          128,
          129,
          130,
          131,
          132,
          133,
          134,
          135,
          136,
          137,
          138,
          139,
          140,
          141,
          142,
          143,
          144,
          145,
          146,
          147,
          148,
          149,
          150,
          151,
          152,
          153,
          154,
          155,
          156,
          157,
          158,
          159,
          160,
          161,
          162,
          163,
          164,
          165,
          166,
          167,
          168,
          170
         ],
         "name": "",
         "showlegend": true,
         "showscale": false,
         "subplot": "mapbox",
         "type": "choroplethmapbox",
         "z": [
          1,
          1,
          1,
          1,
          1,
          1,
          1,
          1,
          1,
          1,
          1,
          1,
          1,
          1,
          1,
          1,
          1,
          1,
          1,
          1,
          1,
          1,
          1,
          1,
          1,
          1,
          1,
          1,
          1,
          1,
          1,
          1,
          1,
          1,
          1,
          1,
          1,
          1,
          1,
          1,
          1,
          1,
          1,
          1,
          1,
          1,
          1,
          1,
          1,
          1,
          1,
          1,
          1,
          1,
          1,
          1,
          1,
          1,
          1,
          1,
          1,
          1,
          1,
          1,
          1,
          1,
          1,
          1,
          1,
          1,
          1,
          1,
          1,
          1,
          1,
          1,
          1,
          1,
          1,
          1,
          1,
          1,
          1,
          1,
          1,
          1,
          1,
          1,
          1,
          1,
          1,
          1,
          1,
          1,
          1,
          1,
          1,
          1,
          1,
          1,
          1,
          1,
          1,
          1,
          1,
          1,
          1,
          1,
          1,
          1,
          1,
          1,
          1,
          1,
          1,
          1,
          1,
          1,
          1,
          1,
          1,
          1,
          1,
          1,
          1,
          1,
          1,
          1,
          1,
          1,
          1,
          1,
          1,
          1,
          1,
          1,
          1,
          1,
          1,
          1,
          1,
          1,
          1,
          1,
          1,
          1,
          1,
          1,
          1,
          1,
          1,
          1,
          1,
          1,
          1,
          1,
          1,
          1,
          1,
          1,
          1,
          1,
          1,
          1,
          1,
          1,
          1,
          1,
          1
         ]
        }
       ],
       "layout": {
        "height": 800,
        "legend": {
         "tracegroupgap": 0
        },
        "mapbox": {
         "center": {
          "lat": 47.3824,
          "lon": 2.9253
         },
         "domain": {
          "x": [
           0,
           1
          ],
          "y": [
           0,
           1
          ]
         },
         "style": "open-street-map",
         "zoom": 9.5
        },
        "margin": {
         "b": 0,
         "l": 0,
         "r": 0,
         "t": 0
        },
        "template": {
         "data": {
          "bar": [
           {
            "error_x": {
             "color": "#2a3f5f"
            },
            "error_y": {
             "color": "#2a3f5f"
            },
            "marker": {
             "line": {
              "color": "#E5ECF6",
              "width": 0.5
             },
             "pattern": {
              "fillmode": "overlay",
              "size": 10,
              "solidity": 0.2
             }
            },
            "type": "bar"
           }
          ],
          "barpolar": [
           {
            "marker": {
             "line": {
              "color": "#E5ECF6",
              "width": 0.5
             },
             "pattern": {
              "fillmode": "overlay",
              "size": 10,
              "solidity": 0.2
             }
            },
            "type": "barpolar"
           }
          ],
          "carpet": [
           {
            "aaxis": {
             "endlinecolor": "#2a3f5f",
             "gridcolor": "white",
             "linecolor": "white",
             "minorgridcolor": "white",
             "startlinecolor": "#2a3f5f"
            },
            "baxis": {
             "endlinecolor": "#2a3f5f",
             "gridcolor": "white",
             "linecolor": "white",
             "minorgridcolor": "white",
             "startlinecolor": "#2a3f5f"
            },
            "type": "carpet"
           }
          ],
          "choropleth": [
           {
            "colorbar": {
             "outlinewidth": 0,
             "ticks": ""
            },
            "type": "choropleth"
           }
          ],
          "contour": [
           {
            "colorbar": {
             "outlinewidth": 0,
             "ticks": ""
            },
            "colorscale": [
             [
              0,
              "#0d0887"
             ],
             [
              0.1111111111111111,
              "#46039f"
             ],
             [
              0.2222222222222222,
              "#7201a8"
             ],
             [
              0.3333333333333333,
              "#9c179e"
             ],
             [
              0.4444444444444444,
              "#bd3786"
             ],
             [
              0.5555555555555556,
              "#d8576b"
             ],
             [
              0.6666666666666666,
              "#ed7953"
             ],
             [
              0.7777777777777778,
              "#fb9f3a"
             ],
             [
              0.8888888888888888,
              "#fdca26"
             ],
             [
              1,
              "#f0f921"
             ]
            ],
            "type": "contour"
           }
          ],
          "contourcarpet": [
           {
            "colorbar": {
             "outlinewidth": 0,
             "ticks": ""
            },
            "type": "contourcarpet"
           }
          ],
          "heatmap": [
           {
            "colorbar": {
             "outlinewidth": 0,
             "ticks": ""
            },
            "colorscale": [
             [
              0,
              "#0d0887"
             ],
             [
              0.1111111111111111,
              "#46039f"
             ],
             [
              0.2222222222222222,
              "#7201a8"
             ],
             [
              0.3333333333333333,
              "#9c179e"
             ],
             [
              0.4444444444444444,
              "#bd3786"
             ],
             [
              0.5555555555555556,
              "#d8576b"
             ],
             [
              0.6666666666666666,
              "#ed7953"
             ],
             [
              0.7777777777777778,
              "#fb9f3a"
             ],
             [
              0.8888888888888888,
              "#fdca26"
             ],
             [
              1,
              "#f0f921"
             ]
            ],
            "type": "heatmap"
           }
          ],
          "heatmapgl": [
           {
            "colorbar": {
             "outlinewidth": 0,
             "ticks": ""
            },
            "colorscale": [
             [
              0,
              "#0d0887"
             ],
             [
              0.1111111111111111,
              "#46039f"
             ],
             [
              0.2222222222222222,
              "#7201a8"
             ],
             [
              0.3333333333333333,
              "#9c179e"
             ],
             [
              0.4444444444444444,
              "#bd3786"
             ],
             [
              0.5555555555555556,
              "#d8576b"
             ],
             [
              0.6666666666666666,
              "#ed7953"
             ],
             [
              0.7777777777777778,
              "#fb9f3a"
             ],
             [
              0.8888888888888888,
              "#fdca26"
             ],
             [
              1,
              "#f0f921"
             ]
            ],
            "type": "heatmapgl"
           }
          ],
          "histogram": [
           {
            "marker": {
             "pattern": {
              "fillmode": "overlay",
              "size": 10,
              "solidity": 0.2
             }
            },
            "type": "histogram"
           }
          ],
          "histogram2d": [
           {
            "colorbar": {
             "outlinewidth": 0,
             "ticks": ""
            },
            "colorscale": [
             [
              0,
              "#0d0887"
             ],
             [
              0.1111111111111111,
              "#46039f"
             ],
             [
              0.2222222222222222,
              "#7201a8"
             ],
             [
              0.3333333333333333,
              "#9c179e"
             ],
             [
              0.4444444444444444,
              "#bd3786"
             ],
             [
              0.5555555555555556,
              "#d8576b"
             ],
             [
              0.6666666666666666,
              "#ed7953"
             ],
             [
              0.7777777777777778,
              "#fb9f3a"
             ],
             [
              0.8888888888888888,
              "#fdca26"
             ],
             [
              1,
              "#f0f921"
             ]
            ],
            "type": "histogram2d"
           }
          ],
          "histogram2dcontour": [
           {
            "colorbar": {
             "outlinewidth": 0,
             "ticks": ""
            },
            "colorscale": [
             [
              0,
              "#0d0887"
             ],
             [
              0.1111111111111111,
              "#46039f"
             ],
             [
              0.2222222222222222,
              "#7201a8"
             ],
             [
              0.3333333333333333,
              "#9c179e"
             ],
             [
              0.4444444444444444,
              "#bd3786"
             ],
             [
              0.5555555555555556,
              "#d8576b"
             ],
             [
              0.6666666666666666,
              "#ed7953"
             ],
             [
              0.7777777777777778,
              "#fb9f3a"
             ],
             [
              0.8888888888888888,
              "#fdca26"
             ],
             [
              1,
              "#f0f921"
             ]
            ],
            "type": "histogram2dcontour"
           }
          ],
          "mesh3d": [
           {
            "colorbar": {
             "outlinewidth": 0,
             "ticks": ""
            },
            "type": "mesh3d"
           }
          ],
          "parcoords": [
           {
            "line": {
             "colorbar": {
              "outlinewidth": 0,
              "ticks": ""
             }
            },
            "type": "parcoords"
           }
          ],
          "pie": [
           {
            "automargin": true,
            "type": "pie"
           }
          ],
          "scatter": [
           {
            "fillpattern": {
             "fillmode": "overlay",
             "size": 10,
             "solidity": 0.2
            },
            "type": "scatter"
           }
          ],
          "scatter3d": [
           {
            "line": {
             "colorbar": {
              "outlinewidth": 0,
              "ticks": ""
             }
            },
            "marker": {
             "colorbar": {
              "outlinewidth": 0,
              "ticks": ""
             }
            },
            "type": "scatter3d"
           }
          ],
          "scattercarpet": [
           {
            "marker": {
             "colorbar": {
              "outlinewidth": 0,
              "ticks": ""
             }
            },
            "type": "scattercarpet"
           }
          ],
          "scattergeo": [
           {
            "marker": {
             "colorbar": {
              "outlinewidth": 0,
              "ticks": ""
             }
            },
            "type": "scattergeo"
           }
          ],
          "scattergl": [
           {
            "marker": {
             "colorbar": {
              "outlinewidth": 0,
              "ticks": ""
             }
            },
            "type": "scattergl"
           }
          ],
          "scattermapbox": [
           {
            "marker": {
             "colorbar": {
              "outlinewidth": 0,
              "ticks": ""
             }
            },
            "type": "scattermapbox"
           }
          ],
          "scatterpolar": [
           {
            "marker": {
             "colorbar": {
              "outlinewidth": 0,
              "ticks": ""
             }
            },
            "type": "scatterpolar"
           }
          ],
          "scatterpolargl": [
           {
            "marker": {
             "colorbar": {
              "outlinewidth": 0,
              "ticks": ""
             }
            },
            "type": "scatterpolargl"
           }
          ],
          "scatterternary": [
           {
            "marker": {
             "colorbar": {
              "outlinewidth": 0,
              "ticks": ""
             }
            },
            "type": "scatterternary"
           }
          ],
          "surface": [
           {
            "colorbar": {
             "outlinewidth": 0,
             "ticks": ""
            },
            "colorscale": [
             [
              0,
              "#0d0887"
             ],
             [
              0.1111111111111111,
              "#46039f"
             ],
             [
              0.2222222222222222,
              "#7201a8"
             ],
             [
              0.3333333333333333,
              "#9c179e"
             ],
             [
              0.4444444444444444,
              "#bd3786"
             ],
             [
              0.5555555555555556,
              "#d8576b"
             ],
             [
              0.6666666666666666,
              "#ed7953"
             ],
             [
              0.7777777777777778,
              "#fb9f3a"
             ],
             [
              0.8888888888888888,
              "#fdca26"
             ],
             [
              1,
              "#f0f921"
             ]
            ],
            "type": "surface"
           }
          ],
          "table": [
           {
            "cells": {
             "fill": {
              "color": "#EBF0F8"
             },
             "line": {
              "color": "white"
             }
            },
            "header": {
             "fill": {
              "color": "#C8D4E3"
             },
             "line": {
              "color": "white"
             }
            },
            "type": "table"
           }
          ]
         },
         "layout": {
          "annotationdefaults": {
           "arrowcolor": "#2a3f5f",
           "arrowhead": 0,
           "arrowwidth": 1
          },
          "autotypenumbers": "strict",
          "coloraxis": {
           "colorbar": {
            "outlinewidth": 0,
            "ticks": ""
           }
          },
          "colorscale": {
           "diverging": [
            [
             0,
             "#8e0152"
            ],
            [
             0.1,
             "#c51b7d"
            ],
            [
             0.2,
             "#de77ae"
            ],
            [
             0.3,
             "#f1b6da"
            ],
            [
             0.4,
             "#fde0ef"
            ],
            [
             0.5,
             "#f7f7f7"
            ],
            [
             0.6,
             "#e6f5d0"
            ],
            [
             0.7,
             "#b8e186"
            ],
            [
             0.8,
             "#7fbc41"
            ],
            [
             0.9,
             "#4d9221"
            ],
            [
             1,
             "#276419"
            ]
           ],
           "sequential": [
            [
             0,
             "#0d0887"
            ],
            [
             0.1111111111111111,
             "#46039f"
            ],
            [
             0.2222222222222222,
             "#7201a8"
            ],
            [
             0.3333333333333333,
             "#9c179e"
            ],
            [
             0.4444444444444444,
             "#bd3786"
            ],
            [
             0.5555555555555556,
             "#d8576b"
            ],
            [
             0.6666666666666666,
             "#ed7953"
            ],
            [
             0.7777777777777778,
             "#fb9f3a"
            ],
            [
             0.8888888888888888,
             "#fdca26"
            ],
            [
             1,
             "#f0f921"
            ]
           ],
           "sequentialminus": [
            [
             0,
             "#0d0887"
            ],
            [
             0.1111111111111111,
             "#46039f"
            ],
            [
             0.2222222222222222,
             "#7201a8"
            ],
            [
             0.3333333333333333,
             "#9c179e"
            ],
            [
             0.4444444444444444,
             "#bd3786"
            ],
            [
             0.5555555555555556,
             "#d8576b"
            ],
            [
             0.6666666666666666,
             "#ed7953"
            ],
            [
             0.7777777777777778,
             "#fb9f3a"
            ],
            [
             0.8888888888888888,
             "#fdca26"
            ],
            [
             1,
             "#f0f921"
            ]
           ]
          },
          "colorway": [
           "#636efa",
           "#EF553B",
           "#00cc96",
           "#ab63fa",
           "#FFA15A",
           "#19d3f3",
           "#FF6692",
           "#B6E880",
           "#FF97FF",
           "#FECB52"
          ],
          "font": {
           "color": "#2a3f5f"
          },
          "geo": {
           "bgcolor": "white",
           "lakecolor": "white",
           "landcolor": "#E5ECF6",
           "showlakes": true,
           "showland": true,
           "subunitcolor": "white"
          },
          "hoverlabel": {
           "align": "left"
          },
          "hovermode": "closest",
          "mapbox": {
           "style": "light"
          },
          "paper_bgcolor": "white",
          "plot_bgcolor": "#E5ECF6",
          "polar": {
           "angularaxis": {
            "gridcolor": "white",
            "linecolor": "white",
            "ticks": ""
           },
           "bgcolor": "#E5ECF6",
           "radialaxis": {
            "gridcolor": "white",
            "linecolor": "white",
            "ticks": ""
           }
          },
          "scene": {
           "xaxis": {
            "backgroundcolor": "#E5ECF6",
            "gridcolor": "white",
            "gridwidth": 2,
            "linecolor": "white",
            "showbackground": true,
            "ticks": "",
            "zerolinecolor": "white"
           },
           "yaxis": {
            "backgroundcolor": "#E5ECF6",
            "gridcolor": "white",
            "gridwidth": 2,
            "linecolor": "white",
            "showbackground": true,
            "ticks": "",
            "zerolinecolor": "white"
           },
           "zaxis": {
            "backgroundcolor": "#E5ECF6",
            "gridcolor": "white",
            "gridwidth": 2,
            "linecolor": "white",
            "showbackground": true,
            "ticks": "",
            "zerolinecolor": "white"
           }
          },
          "shapedefaults": {
           "line": {
            "color": "#2a3f5f"
           }
          },
          "ternary": {
           "aaxis": {
            "gridcolor": "white",
            "linecolor": "white",
            "ticks": ""
           },
           "baxis": {
            "gridcolor": "white",
            "linecolor": "white",
            "ticks": ""
           },
           "bgcolor": "#E5ECF6",
           "caxis": {
            "gridcolor": "white",
            "linecolor": "white",
            "ticks": ""
           }
          },
          "title": {
           "x": 0.05
          },
          "xaxis": {
           "automargin": true,
           "gridcolor": "white",
           "linecolor": "white",
           "ticks": "",
           "title": {
            "standoff": 15
           },
           "zerolinecolor": "white",
           "zerolinewidth": 2
          },
          "yaxis": {
           "automargin": true,
           "gridcolor": "white",
           "linecolor": "white",
           "ticks": "",
           "title": {
            "standoff": 15
           },
           "zerolinecolor": "white",
           "zerolinewidth": 2
          }
         }
        },
        "width": 1000
       }
      }
     },
     "metadata": {},
     "output_type": "display_data"
    },
    {
     "name": "stdout",
     "output_type": "stream",
     "text": [
      "Dash is running on http://127.0.0.1:4060/\n",
      "\n",
      " * Serving Flask app '__main__' (lazy loading)\n",
      " * Environment: production\n",
      "\u001b[31m   WARNING: This is a development server. Do not use it in a production deployment.\u001b[0m\n",
      "\u001b[2m   Use a production WSGI server instead.\u001b[0m\n",
      " * Debug mode: off\n"
     ]
    },
    {
     "name": "stderr",
     "output_type": "stream",
     "text": [
      " * Running on http://127.0.0.1:4060 (Press CTRL+C to quit)\n",
      "127.0.0.1 - - [30/Jun/2022 09:51:54] \"GET / HTTP/1.1\" 200 -\n",
      "127.0.0.1 - - [30/Jun/2022 09:51:54] \"GET /assets/dashExtensions_default.js?m=1655732100.1942883 HTTP/1.1\" 304 -\n",
      "127.0.0.1 - - [30/Jun/2022 09:51:54] \"GET /_dash-layout HTTP/1.1\" 200 -\n",
      "127.0.0.1 - - [30/Jun/2022 09:51:54] \"GET /_dash-dependencies HTTP/1.1\" 200 -\n",
      "127.0.0.1 - - [30/Jun/2022 09:51:54] \"GET /_favicon.ico?v=2.4.1 HTTP/1.1\" 200 -\n",
      "127.0.0.1 - - [30/Jun/2022 09:51:54] \"GET /_dash-component-suites/dash/dcc/async-graph.js HTTP/1.1\" 304 -\n",
      "127.0.0.1 - - [30/Jun/2022 09:51:54] \"GET /_dash-component-suites/dash/dcc/async-plotlyjs.js HTTP/1.1\" 304 -\n"
     ]
    },
    {
     "ename": "KeyError",
     "evalue": "'s1_time_series'",
     "output_type": "error",
     "traceback": [
      "\u001b[1;31m---------------------------------------------------------------------------\u001b[0m",
      "\u001b[1;31mKeyError\u001b[0m                                  Traceback (most recent call last)",
      "\u001b[1;32mc:\\Users\\AbdullahToqeer\\Desktop\\Dashboard\\21 june question asked plotly stackoverflow.ipynb Cell 1'\u001b[0m in \u001b[0;36m<cell line: 56>\u001b[1;34m()\u001b[0m\n\u001b[0;32m     <a href='vscode-notebook-cell:/c%3A/Users/AbdullahToqeer/Desktop/Dashboard/21%20june%20question%20asked%20plotly%20stackoverflow.ipynb#ch0000000?line=52'>53</a>\u001b[0m app \u001b[39m=\u001b[39m dash\u001b[39m.\u001b[39mDash(\u001b[39m__name__\u001b[39m, external_stylesheets\u001b[39m=\u001b[39mexternal_stylesheets) \n\u001b[0;32m     <a href='vscode-notebook-cell:/c%3A/Users/AbdullahToqeer/Desktop/Dashboard/21%20june%20question%20asked%20plotly%20stackoverflow.ipynb#ch0000000?line=54'>55</a>\u001b[0m \u001b[39mwhile\u001b[39;00m \u001b[39mTrue\u001b[39;00m:\n\u001b[1;32m---> <a href='vscode-notebook-cell:/c%3A/Users/AbdullahToqeer/Desktop/Dashboard/21%20june%20question%20asked%20plotly%20stackoverflow.ipynb#ch0000000?line=55'>56</a>\u001b[0m     graph \u001b[39m=\u001b[39m updated_apis()\n\u001b[0;32m     <a href='vscode-notebook-cell:/c%3A/Users/AbdullahToqeer/Desktop/Dashboard/21%20june%20question%20asked%20plotly%20stackoverflow.ipynb#ch0000000?line=56'>57</a>\u001b[0m     app\u001b[39m.\u001b[39mlayout \u001b[39m=\u001b[39m html\u001b[39m.\u001b[39mDiv([\n\u001b[0;32m     <a href='vscode-notebook-cell:/c%3A/Users/AbdullahToqeer/Desktop/Dashboard/21%20june%20question%20asked%20plotly%20stackoverflow.ipynb#ch0000000?line=57'>58</a>\u001b[0m     html\u001b[39m.\u001b[39mH2(\u001b[39m'\u001b[39m\u001b[39mAgriculture Parcels Dashboard\u001b[39m\u001b[39m'\u001b[39m, style\u001b[39m=\u001b[39m{\u001b[39m'\u001b[39m\u001b[39mtextAlign\u001b[39m\u001b[39m'\u001b[39m: \u001b[39m'\u001b[39m\u001b[39mcenter\u001b[39m\u001b[39m'\u001b[39m}),\n\u001b[0;32m     <a href='vscode-notebook-cell:/c%3A/Users/AbdullahToqeer/Desktop/Dashboard/21%20june%20question%20asked%20plotly%20stackoverflow.ipynb#ch0000000?line=58'>59</a>\u001b[0m   \n\u001b[1;32m   (...)\u001b[0m\n\u001b[0;32m     <a href='vscode-notebook-cell:/c%3A/Users/AbdullahToqeer/Desktop/Dashboard/21%20june%20question%20asked%20plotly%20stackoverflow.ipynb#ch0000000?line=73'>74</a>\u001b[0m                       ])\n\u001b[0;32m     <a href='vscode-notebook-cell:/c%3A/Users/AbdullahToqeer/Desktop/Dashboard/21%20june%20question%20asked%20plotly%20stackoverflow.ipynb#ch0000000?line=74'>75</a>\u001b[0m                       ])\n\u001b[0;32m     <a href='vscode-notebook-cell:/c%3A/Users/AbdullahToqeer/Desktop/Dashboard/21%20june%20question%20asked%20plotly%20stackoverflow.ipynb#ch0000000?line=76'>77</a>\u001b[0m     \u001b[39mif\u001b[39;00m \u001b[39m__name__\u001b[39m \u001b[39m==\u001b[39m \u001b[39m'\u001b[39m\u001b[39m__main__\u001b[39m\u001b[39m'\u001b[39m:\n",
      "\u001b[1;32mc:\\Users\\AbdullahToqeer\\Desktop\\Dashboard\\21 june question asked plotly stackoverflow.ipynb Cell 1'\u001b[0m in \u001b[0;36mupdated_apis\u001b[1;34m()\u001b[0m\n\u001b[0;32m     <a href='vscode-notebook-cell:/c%3A/Users/AbdullahToqeer/Desktop/Dashboard/21%20june%20question%20asked%20plotly%20stackoverflow.ipynb#ch0000000?line=25'>26</a>\u001b[0m json_s1_time_series_p6 \u001b[39m=\u001b[39m r_s1_time_series_p6\u001b[39m.\u001b[39mjson()\n\u001b[0;32m     <a href='vscode-notebook-cell:/c%3A/Users/AbdullahToqeer/Desktop/Dashboard/21%20june%20question%20asked%20plotly%20stackoverflow.ipynb#ch0000000?line=26'>27</a>\u001b[0m json_s2_time_series_p6 \u001b[39m=\u001b[39m r_s2_time_series_p6\u001b[39m.\u001b[39mjson()\n\u001b[1;32m---> <a href='vscode-notebook-cell:/c%3A/Users/AbdullahToqeer/Desktop/Dashboard/21%20june%20question%20asked%20plotly%20stackoverflow.ipynb#ch0000000?line=27'>28</a>\u001b[0m df_s1_time_series_p6 \u001b[39m=\u001b[39m pd\u001b[39m.\u001b[39mDataFrame(json_s1_time_series_p6[\u001b[39m'\u001b[39;49m\u001b[39ms1_time_series\u001b[39;49m\u001b[39m'\u001b[39;49m])\n\u001b[0;32m     <a href='vscode-notebook-cell:/c%3A/Users/AbdullahToqeer/Desktop/Dashboard/21%20june%20question%20asked%20plotly%20stackoverflow.ipynb#ch0000000?line=28'>29</a>\u001b[0m df_s2_time_series_p6 \u001b[39m=\u001b[39m pd\u001b[39m.\u001b[39mDataFrame(json_s2_time_series_p6[\u001b[39m'\u001b[39m\u001b[39ms2_time_series\u001b[39m\u001b[39m'\u001b[39m])\n\u001b[0;32m     <a href='vscode-notebook-cell:/c%3A/Users/AbdullahToqeer/Desktop/Dashboard/21%20june%20question%20asked%20plotly%20stackoverflow.ipynb#ch0000000?line=29'>30</a>\u001b[0m df_s2_time_series_p6\u001b[39m.\u001b[39ms2product_start_time\u001b[39m=\u001b[39mdf_s2_time_series_p6\u001b[39m.\u001b[39ms2product_start_time\u001b[39m.\u001b[39mstr[\u001b[39m0\u001b[39m:\u001b[39m11\u001b[39m]\n",
      "\u001b[1;31mKeyError\u001b[0m: 's1_time_series'"
     ]
    }
   ],
   "source": [
    "#importing libraries\n",
    "import dash\n",
    "from dash import dcc\n",
    "from dash import html\n",
    "import numpy as np\n",
    "import plotly.graph_objs as go\n",
    "from dash import Dash, dcc, html, Input, Output\n",
    "import plotly.express as px\n",
    "import pandas as pd\n",
    "import json\n",
    "from shapely.geometry import shape\n",
    "import requests\n",
    "\n",
    "\n",
    "#function to update API, currently taking input from user ideally take input from the click of parcel\n",
    "\n",
    "def updated_apis():\n",
    "    foreign = input('enter parcel foreign id')\n",
    "    s1_time_series_url_p6 = 'https://demodev2.kappazeta.ee/ard_api_demo/v1/time_series/s1?limit_to_rasters=true&parcel_foreign_id=6&properties=parcel_foreign_id%2Cs1product_end_time%2Cs1product_ron%2Ccohvh_avg%2Ccohvv_avg%2Cvhvv_avg'\n",
    "    s2_time_series_url_p6 = 'https://demodev2.kappazeta.ee/ard_api_demo/v1/time_series/s2?limit_to_rasters=true&parcel_foreign_id=6&properties=parcel_foreign_id%2Cs2product_start_time%2Cs2product_ron%2Cndvi_avg'\n",
    "    position = 101\n",
    "    s1_time_series_url_p6 = s1_time_series_url_p6[:position] + foreign + s1_time_series_url_p6[position+1:]\n",
    "    s2_time_series_url_p6 = s2_time_series_url_p6[:position] + foreign + s2_time_series_url_p6[position+1:]\n",
    "    r_s1_time_series_p6 = requests.get(s1_time_series_url_p6)\n",
    "    r_s2_time_series_p6 = requests.get(s2_time_series_url_p6)\n",
    "    json_s1_time_series_p6 = r_s1_time_series_p6.json()\n",
    "    json_s2_time_series_p6 = r_s2_time_series_p6.json()\n",
    "    df_s1_time_series_p6 = pd.DataFrame(json_s1_time_series_p6['s1_time_series'])\n",
    "    df_s2_time_series_p6 = pd.DataFrame(json_s2_time_series_p6['s2_time_series'])\n",
    "    df_s2_time_series_p6.s2product_start_time=df_s2_time_series_p6.s2product_start_time.str[0:11]\n",
    "    df_s1_time_series_p6.s1product_end_time=df_s1_time_series_p6.s1product_end_time.str[0:11]\n",
    "    dfinal_p6 = df_s1_time_series_p6.merge(df_s2_time_series_p6, how='inner', left_on='s1product_end_time', right_on='s2product_start_time')\n",
    "    cols_p6 = ['parcel_foreign_id_x', 's1product_ron','parcel_foreign_id_y','s2product_ron']\n",
    "    dfinal_p6[cols_p6] = dfinal_p6[cols_p6].apply(pd.to_numeric, errors='coerce', axis=1)\n",
    "    return dfinal_p6\n",
    "\n",
    "\n",
    "\n",
    "#parcels and map\n",
    "\n",
    "parcels=json.load(open (\"C:/Users/AbdullahToqeer/Desktop/dashboard data/parcel_n.geojson\"))\n",
    "for feature in parcels['features']:\n",
    "    feature['id'] = feature['properties']['parcel_id']\n",
    "df = pd.read_csv('C:/Users/AbdullahToqeer/Downloads/df_n.csv')\n",
    "fig = px.choropleth_mapbox (df, geojson=parcels, locations=\"parcel ID\", featureidkey=\"id\", zoom=9.5, center = {\"lat\": 47.3824, \"lon\": 2.9253}, height=800, width=1000)\n",
    "fig.update_layout(mapbox_style=\"open-street-map\")\n",
    "fig.update_layout(margin={\"r\":0,\"t\":0,\"l\":0,\"b\":0})\n",
    "fig.show()\n",
    "\n",
    "\n",
    "\n",
    "external_stylesheets = ['https://codepen.io/chriddyp/pen/bWLwgP.css']\n",
    "app = dash.Dash(__name__, external_stylesheets=external_stylesheets) \n",
    "\n",
    "while True:\n",
    "    graph = updated_apis()\n",
    "    app.layout = html.Div([\n",
    "    html.H2('Agriculture Parcels Dashboard', style={'textAlign': 'center'}),\n",
    "  \n",
    "    html.Div([\n",
    "        html.Div([\n",
    "            html.H4('Parcel # 6', style={'textAlign': 'center','color': 'blue', 'fontSize': 20}),\n",
    "            dcc.Graph(\n",
    "        id='scatter_chart',\n",
    "        figure=px.line(graph,x=\"s1product_end_time\", y=[\"ndvi_avg\", \"vhvv_avg\",\"cohvv_avg\",\"cohvh_avg\"],markers=True, width=1000,height=600,\n",
    "                      labels={\"s1product_end_time\": \"Date\"}))], className=\"six columns\"),\n",
    "\n",
    "\n",
    "    html.Div([\n",
    "            html.H4('Parcel location', style={'textAlign': 'center','color': 'blue', 'fontSize': 20}),\n",
    "            dcc.Graph(figure=fig, className=\"six columns\")\n",
    "\n",
    "                      ])\n",
    "                      ])\n",
    "                      ])\n",
    "\n",
    "    if __name__ == '__main__':\n",
    "        app.run_server(port=4060)\n",
    "\n"
   ]
  },
  {
   "cell_type": "code",
   "execution_count": null,
   "metadata": {},
   "outputs": [],
   "source": []
  }
 ],
 "metadata": {
  "kernelspec": {
   "display_name": "Python 3.9.13 ('venv': venv)",
   "language": "python",
   "name": "python3"
  },
  "language_info": {
   "codemirror_mode": {
    "name": "ipython",
    "version": 3
   },
   "file_extension": ".py",
   "mimetype": "text/x-python",
   "name": "python",
   "nbconvert_exporter": "python",
   "pygments_lexer": "ipython3",
   "version": "3.9.13"
  },
  "orig_nbformat": 4,
  "vscode": {
   "interpreter": {
    "hash": "02bf62ed7c136c5551e826de39482ae2b7fe375556a4b2cc8b2374ce24f84032"
   }
  }
 },
 "nbformat": 4,
 "nbformat_minor": 2
}
